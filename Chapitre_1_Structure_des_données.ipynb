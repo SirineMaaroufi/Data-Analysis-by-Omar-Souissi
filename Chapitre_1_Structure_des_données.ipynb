{
  "nbformat": 4,
  "nbformat_minor": 0,
  "metadata": {
    "colab": {
      "name": "Chapitre 1: Structure des données",
      "provenance": [],
      "collapsed_sections": [],
      "authorship_tag": "ABX9TyM7cChWiMmPAJEabmaNFCov",
      "include_colab_link": true
    },
    "kernelspec": {
      "name": "python3",
      "display_name": "Python 3"
    },
    "language_info": {
      "name": "python"
    }
  },
  "cells": [
    {
      "cell_type": "markdown",
      "metadata": {
        "id": "view-in-github",
        "colab_type": "text"
      },
      "source": [
        "<a href=\"https://colab.research.google.com/github/SirineMaaroufi/Data-Analysis-by-Omar-Souissi/blob/main/Chapitre_1_Structure_des_donn%C3%A9es.ipynb\" target=\"_parent\"><img src=\"https://colab.research.google.com/assets/colab-badge.svg\" alt=\"Open In Colab\"/></a>"
      ]
    },
    {
      "cell_type": "markdown",
      "source": [
        "## CHAP_1: Passer en revue les structures de données en Python"
      ],
      "metadata": {
        "id": "5mF1MLdTjUdU"
      }
    },
    {
      "cell_type": "code",
      "execution_count": null,
      "metadata": {
        "id": "ZHjef-VgsBhI"
      },
      "outputs": [],
      "source": [
        "import numpy \n",
        "import pandas\n",
        "import sklearn\n",
        "import seaborn\n",
        "import matplotlib"
      ]
    },
    {
      "cell_type": "markdown",
      "source": [
        "### Listes"
      ],
      "metadata": {
        "id": "kMi4aVk64yPq"
      }
    },
    {
      "cell_type": "code",
      "source": [
        "maliste=['a','b','c','d']\n",
        "maliste"
      ],
      "metadata": {
        "colab": {
          "base_uri": "https://localhost:8080/"
        },
        "id": "G4nKIv5msJZ2",
        "outputId": "6b0e2a2f-72da-42f2-c8ba-c42f5f4e2c6d"
      },
      "execution_count": null,
      "outputs": [
        {
          "output_type": "execute_result",
          "data": {
            "text/plain": [
              "['a', 'b', 'c', 'd']"
            ]
          },
          "metadata": {},
          "execution_count": 4
        }
      ]
    },
    {
      "cell_type": "code",
      "source": [
        "maliste1=['a',3,2,1]\n",
        "maliste1"
      ],
      "metadata": {
        "colab": {
          "base_uri": "https://localhost:8080/"
        },
        "id": "DJU0O5_yv9dZ",
        "outputId": "31422db8-f436-45b7-f15a-284402820940"
      },
      "execution_count": null,
      "outputs": [
        {
          "output_type": "execute_result",
          "data": {
            "text/plain": [
              "['a', 3, 2, 1]"
            ]
          },
          "metadata": {},
          "execution_count": 6
        }
      ]
    },
    {
      "cell_type": "code",
      "source": [
        "type(maliste[0])"
      ],
      "metadata": {
        "colab": {
          "base_uri": "https://localhost:8080/"
        },
        "id": "M58aWNjSwCME",
        "outputId": "9f256bd2-9928-46cb-c3bc-9c720f24e8f1"
      },
      "execution_count": null,
      "outputs": [
        {
          "output_type": "execute_result",
          "data": {
            "text/plain": [
              "str"
            ]
          },
          "metadata": {},
          "execution_count": 7
        }
      ]
    },
    {
      "cell_type": "code",
      "source": [
        "len(maliste1)"
      ],
      "metadata": {
        "colab": {
          "base_uri": "https://localhost:8080/"
        },
        "id": "0ljhMRfAw79x",
        "outputId": "ed7cf48c-12d6-4beb-aa9c-1f7399bd2143"
      },
      "execution_count": null,
      "outputs": [
        {
          "output_type": "execute_result",
          "data": {
            "text/plain": [
              "4"
            ]
          },
          "metadata": {},
          "execution_count": 8
        }
      ]
    },
    {
      "cell_type": "code",
      "source": [
        "maliste1.append(12)\n",
        "maliste1"
      ],
      "metadata": {
        "colab": {
          "base_uri": "https://localhost:8080/"
        },
        "id": "mjlzvR2iw-PT",
        "outputId": "3a83427f-1218-4941-81c0-ca862d2efae1"
      },
      "execution_count": null,
      "outputs": [
        {
          "output_type": "execute_result",
          "data": {
            "text/plain": [
              "['a', 3, 2, 1, 12]"
            ]
          },
          "metadata": {},
          "execution_count": 9
        }
      ]
    },
    {
      "cell_type": "code",
      "source": [
        "del maliste1[2]\n",
        "maliste1"
      ],
      "metadata": {
        "colab": {
          "base_uri": "https://localhost:8080/"
        },
        "id": "1WamO7orxEXo",
        "outputId": "83c15c5c-9990-45ee-ebc7-b1fe25867d7a"
      },
      "execution_count": null,
      "outputs": [
        {
          "output_type": "execute_result",
          "data": {
            "text/plain": [
              "['a', 3, 1, 12]"
            ]
          },
          "metadata": {},
          "execution_count": 11
        }
      ]
    },
    {
      "cell_type": "code",
      "source": [
        "maliste1.remove(12)\n",
        "maliste1"
      ],
      "metadata": {
        "colab": {
          "base_uri": "https://localhost:8080/"
        },
        "id": "QBgSZXqUxIUM",
        "outputId": "653888f7-27ed-40bd-82f2-f9fe8ca463b8"
      },
      "execution_count": null,
      "outputs": [
        {
          "output_type": "execute_result",
          "data": {
            "text/plain": [
              "['a', 3, 1]"
            ]
          },
          "metadata": {},
          "execution_count": 12
        }
      ]
    },
    {
      "cell_type": "code",
      "source": [
        "maliste1.extend([12,3,'a',3])\n",
        "maliste1"
      ],
      "metadata": {
        "colab": {
          "base_uri": "https://localhost:8080/"
        },
        "id": "n8t1pxs1xORz",
        "outputId": "793e3d96-9ba4-4bd1-b6f2-46a7e35013c5"
      },
      "execution_count": null,
      "outputs": [
        {
          "output_type": "execute_result",
          "data": {
            "text/plain": [
              "['a', 3, 1, 12, 3, 'a', 3]"
            ]
          },
          "metadata": {},
          "execution_count": 13
        }
      ]
    },
    {
      "cell_type": "code",
      "source": [
        "maliste1.append([12,3,'a',3])\n",
        "maliste1"
      ],
      "metadata": {
        "colab": {
          "base_uri": "https://localhost:8080/"
        },
        "id": "fXFrZgKwxQ5b",
        "outputId": "8f03800c-05a1-4e16-b321-83fcc33b7610"
      },
      "execution_count": null,
      "outputs": [
        {
          "output_type": "execute_result",
          "data": {
            "text/plain": [
              "['a', 3, 1, 12, 3, 'a', 3, [12, 3, 'a', 3]]"
            ]
          },
          "metadata": {},
          "execution_count": 14
        }
      ]
    },
    {
      "cell_type": "code",
      "source": [
        "maliste1= ['a', 3, 12, 3, 'a', 3]\n",
        "maliste1.count(\"a\")"
      ],
      "metadata": {
        "colab": {
          "base_uri": "https://localhost:8080/"
        },
        "id": "XVUBpvCFxTVn",
        "outputId": "554acc7f-3389-47f5-ea9a-95420f4c0441"
      },
      "execution_count": null,
      "outputs": [
        {
          "output_type": "execute_result",
          "data": {
            "text/plain": [
              "2"
            ]
          },
          "metadata": {},
          "execution_count": 15
        }
      ]
    },
    {
      "cell_type": "code",
      "source": [
        "maliste1.index(\"a\")"
      ],
      "metadata": {
        "colab": {
          "base_uri": "https://localhost:8080/"
        },
        "id": "ieAn2gH5xYQR",
        "outputId": "11b5f091-dc93-405b-fdb0-1d4d25b94193"
      },
      "execution_count": null,
      "outputs": [
        {
          "output_type": "execute_result",
          "data": {
            "text/plain": [
              "0"
            ]
          },
          "metadata": {},
          "execution_count": 16
        }
      ]
    },
    {
      "cell_type": "code",
      "source": [
        "maliste1.reverse()\n",
        "maliste1"
      ],
      "metadata": {
        "colab": {
          "base_uri": "https://localhost:8080/"
        },
        "id": "uhqzmRAVxaXt",
        "outputId": "f7db2d2f-6c06-4655-cb3d-d1bf58d1ea48"
      },
      "execution_count": null,
      "outputs": [
        {
          "output_type": "execute_result",
          "data": {
            "text/plain": [
              "[3, 'a', 3, 12, 3, 'a']"
            ]
          },
          "metadata": {},
          "execution_count": 17
        }
      ]
    },
    {
      "cell_type": "code",
      "source": [
        "maliste2=[4,2]"
      ],
      "metadata": {
        "id": "FBgKhE9xxcnS"
      },
      "execution_count": null,
      "outputs": []
    },
    {
      "cell_type": "code",
      "source": [
        "maliste = maliste1 +maliste2\n",
        "maliste"
      ],
      "metadata": {
        "colab": {
          "base_uri": "https://localhost:8080/"
        },
        "id": "-IkpRGGrxew2",
        "outputId": "b37ac059-bbec-4333-ea10-da72c68e2927"
      },
      "execution_count": null,
      "outputs": [
        {
          "output_type": "execute_result",
          "data": {
            "text/plain": [
              "[3, 'a', 3, 12, 3, 'a', 4, 2]"
            ]
          },
          "metadata": {},
          "execution_count": 19
        }
      ]
    },
    {
      "cell_type": "code",
      "source": [
        "maliste.insert(2,'b')\n",
        "maliste"
      ],
      "metadata": {
        "colab": {
          "base_uri": "https://localhost:8080/"
        },
        "id": "-6bstMFAxhYv",
        "outputId": "980abddb-11cc-4a23-b076-f6aa520690f3"
      },
      "execution_count": null,
      "outputs": [
        {
          "output_type": "execute_result",
          "data": {
            "text/plain": [
              "[3, 'a', 'b', 3, 12, 3, 'a', 4, 2]"
            ]
          },
          "metadata": {},
          "execution_count": 20
        }
      ]
    },
    {
      "cell_type": "code",
      "source": [
        "nouvliste=[1,6,5,3,10]"
      ],
      "metadata": {
        "id": "lMFpprYVxkvJ"
      },
      "execution_count": null,
      "outputs": []
    },
    {
      "cell_type": "code",
      "source": [
        "nouvliste.sort()\n",
        "nouvliste"
      ],
      "metadata": {
        "colab": {
          "base_uri": "https://localhost:8080/"
        },
        "id": "su6bT74JxnZj",
        "outputId": "61a7921a-0b36-458f-8e56-ad6ab62036d8"
      },
      "execution_count": null,
      "outputs": [
        {
          "output_type": "execute_result",
          "data": {
            "text/plain": [
              "[1, 3, 5, 6, 10]"
            ]
          },
          "metadata": {},
          "execution_count": 22
        }
      ]
    },
    {
      "cell_type": "code",
      "source": [
        "sorted(nouvliste)"
      ],
      "metadata": {
        "colab": {
          "base_uri": "https://localhost:8080/"
        },
        "id": "z4iJriCWxqLW",
        "outputId": "ee21b1be-f612-450c-ec65-2473819d9a22"
      },
      "execution_count": null,
      "outputs": [
        {
          "output_type": "execute_result",
          "data": {
            "text/plain": [
              "[1, 3, 5, 6, 10]"
            ]
          },
          "metadata": {},
          "execution_count": 23
        }
      ]
    },
    {
      "cell_type": "code",
      "source": [
        "sorted(nouvliste,reverse=True)"
      ],
      "metadata": {
        "colab": {
          "base_uri": "https://localhost:8080/"
        },
        "id": "j4JSeaKXxtPt",
        "outputId": "4e65d0c2-153d-46ec-a511-dfa2b4a68ea9"
      },
      "execution_count": null,
      "outputs": [
        {
          "output_type": "execute_result",
          "data": {
            "text/plain": [
              "[10, 6, 5, 3, 1]"
            ]
          },
          "metadata": {},
          "execution_count": 24
        }
      ]
    },
    {
      "cell_type": "code",
      "source": [
        "nouvliste1=nouvliste[:2]\n",
        "nouvliste1"
      ],
      "metadata": {
        "colab": {
          "base_uri": "https://localhost:8080/"
        },
        "id": "UM2Fv0YfxwG5",
        "outputId": "5be826bf-a208-493e-a5ad-f1c89bf3c733"
      },
      "execution_count": null,
      "outputs": [
        {
          "output_type": "execute_result",
          "data": {
            "text/plain": [
              "[1, 3]"
            ]
          },
          "metadata": {},
          "execution_count": 25
        }
      ]
    },
    {
      "cell_type": "code",
      "source": [
        "nouvliste2= nouvliste[2:]\n",
        "nouvliste2"
      ],
      "metadata": {
        "colab": {
          "base_uri": "https://localhost:8080/"
        },
        "id": "5J7BjFhCxypk",
        "outputId": "f18a4374-64d9-426c-cf05-9f0037ce1227"
      },
      "execution_count": null,
      "outputs": [
        {
          "output_type": "execute_result",
          "data": {
            "text/plain": [
              "[5, 6, 10]"
            ]
          },
          "metadata": {},
          "execution_count": 26
        }
      ]
    },
    {
      "cell_type": "code",
      "source": [
        "nouvliste3=nouvliste[2:4]\n",
        "nouvliste3"
      ],
      "metadata": {
        "colab": {
          "base_uri": "https://localhost:8080/"
        },
        "id": "up-pnIEdx1TV",
        "outputId": "485ca305-fd4f-4a24-98f1-d91765bd29a0"
      },
      "execution_count": null,
      "outputs": [
        {
          "output_type": "execute_result",
          "data": {
            "text/plain": [
              "[5, 6]"
            ]
          },
          "metadata": {},
          "execution_count": 27
        }
      ]
    },
    {
      "cell_type": "code",
      "source": [
        "nouvliste[-2]"
      ],
      "metadata": {
        "colab": {
          "base_uri": "https://localhost:8080/"
        },
        "id": "BAwCKw8ex33Q",
        "outputId": "3344ce21-3d67-426c-a9d8-9ee1432120c7"
      },
      "execution_count": null,
      "outputs": [
        {
          "output_type": "execute_result",
          "data": {
            "text/plain": [
              "6"
            ]
          },
          "metadata": {},
          "execution_count": 28
        }
      ]
    },
    {
      "cell_type": "code",
      "source": [
        "nouvliste=[1,6,5,3,10]\n",
        "for element in nouvliste:\n",
        "    print (element)"
      ],
      "metadata": {
        "colab": {
          "base_uri": "https://localhost:8080/"
        },
        "id": "OMsI1ES2x6xu",
        "outputId": "f8c2de52-2ec0-4c13-dd69-ffb5d2faa5af"
      },
      "execution_count": null,
      "outputs": [
        {
          "output_type": "stream",
          "name": "stdout",
          "text": [
            "1\n",
            "6\n",
            "5\n",
            "3\n",
            "10\n"
          ]
        }
      ]
    },
    {
      "cell_type": "code",
      "source": [
        "nouvliste=[1,6,5,3,10]\n",
        "\n",
        "for i in enumerate(nouvliste):\n",
        "    print(i)"
      ],
      "metadata": {
        "colab": {
          "base_uri": "https://localhost:8080/"
        },
        "id": "GMoD0HA8x9QE",
        "outputId": "fb099619-f955-4519-8e35-fabbd0e73605"
      },
      "execution_count": null,
      "outputs": [
        {
          "output_type": "stream",
          "name": "stdout",
          "text": [
            "(0, 1)\n",
            "(1, 6)\n",
            "(2, 5)\n",
            "(3, 3)\n",
            "(4, 10)\n"
          ]
        }
      ]
    },
    {
      "cell_type": "code",
      "source": [
        "y=range(10,40,5)\n",
        "for elemnt in enumerate(y):\n",
        "    print(elemnt)"
      ],
      "metadata": {
        "colab": {
          "base_uri": "https://localhost:8080/"
        },
        "id": "w55k_voNyRRA",
        "outputId": "e689f562-67a0-42eb-dc8b-83e4b617b42a"
      },
      "execution_count": null,
      "outputs": [
        {
          "output_type": "stream",
          "name": "stdout",
          "text": [
            "(0, 10)\n",
            "(1, 15)\n",
            "(2, 20)\n",
            "(3, 25)\n",
            "(4, 30)\n",
            "(5, 35)\n"
          ]
        }
      ]
    },
    {
      "cell_type": "code",
      "source": [
        "machaine=\"Hel:lo:22:wor:ld\"\n",
        "maliste=machaine.split(\":\")\n",
        "maliste"
      ],
      "metadata": {
        "colab": {
          "base_uri": "https://localhost:8080/"
        },
        "id": "UJEh4-WzyTU6",
        "outputId": "01e47589-a19d-4c7b-d3a7-5d45ee195768"
      },
      "execution_count": null,
      "outputs": [
        {
          "output_type": "execute_result",
          "data": {
            "text/plain": [
              "['Hel', 'lo', '22', 'wor', 'ld']"
            ]
          },
          "metadata": {},
          "execution_count": 32
        }
      ]
    },
    {
      "cell_type": "code",
      "source": [
        "maliste[2]= float (maliste[2])\n",
        "maliste"
      ],
      "metadata": {
        "colab": {
          "base_uri": "https://localhost:8080/"
        },
        "id": "DqvxRc22yasT",
        "outputId": "75fdb92a-f57f-41b8-ccfe-9c0b079dc45a"
      },
      "execution_count": null,
      "outputs": [
        {
          "output_type": "execute_result",
          "data": {
            "text/plain": [
              "['Hel', 'lo', 22.0, 'wor', 'ld']"
            ]
          },
          "metadata": {},
          "execution_count": 33
        }
      ]
    },
    {
      "cell_type": "markdown",
      "source": [
        "### Tirer parti des dictionnaire"
      ],
      "metadata": {
        "id": "EvaEuTTIygBa"
      }
    },
    {
      "cell_type": "code",
      "source": [
        "equipe={\"Benati\":\"Juventus\",\"Messi\":\"Barcelone\",\"Pogha\":\"Manu\"}\n",
        "equipe"
      ],
      "metadata": {
        "colab": {
          "base_uri": "https://localhost:8080/"
        },
        "id": "PpfLkGZ-ycjC",
        "outputId": "6c3b6696-1649-431a-89ca-71ab3de859f6"
      },
      "execution_count": null,
      "outputs": [
        {
          "output_type": "execute_result",
          "data": {
            "text/plain": [
              "{'Benati': 'Juventus', 'Messi': 'Barcelone', 'Pogha': 'Manu'}"
            ]
          },
          "metadata": {},
          "execution_count": 43
        }
      ]
    },
    {
      "cell_type": "code",
      "source": [
        "equipe[\"Messi\"]"
      ],
      "metadata": {
        "colab": {
          "base_uri": "https://localhost:8080/",
          "height": 35
        },
        "id": "Sbn1HN7bymkJ",
        "outputId": "1d4381ad-3f8b-467c-af1b-75bbcb127582"
      },
      "execution_count": null,
      "outputs": [
        {
          "output_type": "execute_result",
          "data": {
            "text/plain": [
              "'Barcelone'"
            ],
            "application/vnd.google.colaboratory.intrinsic+json": {
              "type": "string"
            }
          },
          "metadata": {},
          "execution_count": 44
        }
      ]
    },
    {
      "cell_type": "code",
      "source": [
        "equipe[\"Hazard\"]= \"Chelsea\"\n",
        "equipe"
      ],
      "metadata": {
        "colab": {
          "base_uri": "https://localhost:8080/"
        },
        "id": "y8MKmgiMyo2j",
        "outputId": "d350019a-fcae-4add-ffcd-17548dac4046"
      },
      "execution_count": null,
      "outputs": [
        {
          "output_type": "execute_result",
          "data": {
            "text/plain": [
              "{'Benati': 'Juventus',\n",
              " 'Hazard': 'Chelsea',\n",
              " 'Messi': 'Barcelone',\n",
              " 'Pogha': 'Manu'}"
            ]
          },
          "metadata": {},
          "execution_count": 36
        }
      ]
    },
    {
      "cell_type": "code",
      "source": [
        "equipe.get(\"Pogha\")"
      ],
      "metadata": {
        "colab": {
          "base_uri": "https://localhost:8080/",
          "height": 35
        },
        "id": "scyT2WFayq_I",
        "outputId": "1d8856d1-b601-4cc1-96fc-dd2b6fb7ec7f"
      },
      "execution_count": null,
      "outputs": [
        {
          "output_type": "execute_result",
          "data": {
            "text/plain": [
              "'Manu'"
            ],
            "application/vnd.google.colaboratory.intrinsic+json": {
              "type": "string"
            }
          },
          "metadata": {},
          "execution_count": 37
        }
      ]
    },
    {
      "cell_type": "code",
      "source": [
        "'Cristiano' in equipe"
      ],
      "metadata": {
        "colab": {
          "base_uri": "https://localhost:8080/"
        },
        "id": "wy8sWX-gytl6",
        "outputId": "0aab23b3-1326-4bba-fcbf-de88158ccf48"
      },
      "execution_count": null,
      "outputs": [
        {
          "output_type": "execute_result",
          "data": {
            "text/plain": [
              "False"
            ]
          },
          "metadata": {},
          "execution_count": 38
        }
      ]
    },
    {
      "cell_type": "code",
      "source": [
        "del equipe[\"Messi\"]\n",
        "\n",
        "equipe"
      ],
      "metadata": {
        "colab": {
          "base_uri": "https://localhost:8080/"
        },
        "id": "pJmxZ2_AywMc",
        "outputId": "767e4643-48a7-4b3f-d236-05588f55a0dd"
      },
      "execution_count": null,
      "outputs": [
        {
          "output_type": "execute_result",
          "data": {
            "text/plain": [
              "{'Benati': 'Juventus', 'Pogha': 'Manu'}"
            ]
          },
          "metadata": {},
          "execution_count": 45
        }
      ]
    },
    {
      "cell_type": "code",
      "source": [
        "print(equipe.keys())"
      ],
      "metadata": {
        "colab": {
          "base_uri": "https://localhost:8080/"
        },
        "id": "JgixezayyyU-",
        "outputId": "203821c9-c912-4dc5-abaa-147027add1cd"
      },
      "execution_count": null,
      "outputs": [
        {
          "output_type": "stream",
          "name": "stdout",
          "text": [
            "dict_keys(['Benati', 'Pogha'])\n"
          ]
        }
      ]
    },
    {
      "cell_type": "code",
      "source": [
        "print(equipe.values())"
      ],
      "metadata": {
        "colab": {
          "base_uri": "https://localhost:8080/"
        },
        "id": "ZyQJO9QjzHh4",
        "outputId": "e6b218f8-04f4-49b2-e9b0-e916cbf2a0df"
      },
      "execution_count": null,
      "outputs": [
        {
          "output_type": "stream",
          "name": "stdout",
          "text": [
            "dict_values(['Juventus', 'Manu'])\n"
          ]
        }
      ]
    },
    {
      "cell_type": "code",
      "source": [
        "for clé, valeur in equipe.items():\n",
        "    print (\"le joueur \", clé,\"est de l'equipe \", valeur )\n",
        "    "
      ],
      "metadata": {
        "colab": {
          "base_uri": "https://localhost:8080/"
        },
        "id": "BVRkByPE0QCW",
        "outputId": "48c1c5f7-b8f6-4b82-9e5a-abf9dba5730b"
      },
      "execution_count": null,
      "outputs": [
        {
          "output_type": "stream",
          "name": "stdout",
          "text": [
            "le joueur  Benati est de l'equipe  Juventus\n",
            "le joueur  Pogha est de l'equipe  Manu\n"
          ]
        }
      ]
    },
    {
      "cell_type": "markdown",
      "source": [
        "### Fusion des dictionnaires"
      ],
      "metadata": {
        "id": "08ocQBJ-54BD"
      }
    },
    {
      "cell_type": "code",
      "source": [
        "d1={'equipe 1 ': 'joueur 1','equipe 2': 'joueur 2'}\n",
        "d2={'equipe 3': 'joueur 3','equipe 4': 'joueur 4'}\n",
        "dnouv = dict()\n",
        "for key, value in d1.items():\n",
        "  dnouv[key]=value\n",
        "for key, value in d2.items():\n",
        "  dnouv[key]=value\n",
        "\n",
        "dnouv"
      ],
      "metadata": {
        "colab": {
          "base_uri": "https://localhost:8080/"
        },
        "id": "JG2Oh22i58pO",
        "outputId": "6d31b996-5172-43dd-afe7-e4d24c1f63cd"
      },
      "execution_count": null,
      "outputs": [
        {
          "output_type": "execute_result",
          "data": {
            "text/plain": [
              "{'equipe 1 ': 'joueur 1',\n",
              " 'equipe 2': 'joueur 2',\n",
              " 'equipe 3': 'joueur 3',\n",
              " 'equipe 4': 'joueur 4'}"
            ]
          },
          "metadata": {},
          "execution_count": 50
        }
      ]
    },
    {
      "cell_type": "code",
      "source": [
        "dnouv_1 =d1.copy()\n",
        "dnouv_1.update(d2)\n",
        "dnouv_1"
      ],
      "metadata": {
        "colab": {
          "base_uri": "https://localhost:8080/"
        },
        "id": "OTAAsPDu9O4m",
        "outputId": "cf8c5691-4387-4172-efea-a74ed37929df"
      },
      "execution_count": null,
      "outputs": [
        {
          "output_type": "execute_result",
          "data": {
            "text/plain": [
              "{'equipe 1 ': 'joueur 1',\n",
              " 'equipe 2': 'joueur 2',\n",
              " 'equipe 3': 'joueur 3',\n",
              " 'equipe 4': 'joueur 4'}"
            ]
          },
          "metadata": {},
          "execution_count": 52
        }
      ]
    },
    {
      "cell_type": "code",
      "source": [
        "!python --version\n",
        "!sudo apt-get update -y\n",
        "!sudo apt-get install python3.9"
      ],
      "metadata": {
        "id": "p7c4fnqvDxsl"
      },
      "execution_count": null,
      "outputs": []
    },
    {
      "cell_type": "code",
      "source": [
        "!sudo update-alternatives --install /usr/bin/python3 python3 /usr/bin/python3.7 1\n",
        "!sudo update-alternatives --install /usr/bin/python3 python3 /usr/bin/python3.9 2"
      ],
      "metadata": {
        "id": "9SN9ICgCEDvc"
      },
      "execution_count": null,
      "outputs": []
    },
    {
      "cell_type": "code",
      "source": [
        "!python --version\n",
        "import numpy\n",
        "import pandas"
      ],
      "metadata": {
        "colab": {
          "base_uri": "https://localhost:8080/"
        },
        "id": "hO8HDmxOEQ15",
        "outputId": "c12202fa-07f5-42d5-d9fd-4e2b394576f6"
      },
      "execution_count": null,
      "outputs": [
        {
          "output_type": "stream",
          "name": "stdout",
          "text": [
            "Python 3.9.13\n"
          ]
        }
      ]
    },
    {
      "cell_type": "code",
      "source": [
        "dnouv_1= d1|d2"
      ],
      "metadata": {
        "id": "7pBUAC_sEPCv"
      },
      "execution_count": null,
      "outputs": []
    },
    {
      "cell_type": "markdown",
      "source": [
        "### Découvrir les compréhensions"
      ],
      "metadata": {
        "id": "LzXkx7BcE4lA"
      }
    },
    {
      "cell_type": "code",
      "source": [
        "liste=[]\n"
      ],
      "metadata": {
        "id": "fFS4Jy2fEm5_"
      },
      "execution_count": null,
      "outputs": []
    },
    {
      "cell_type": "code",
      "source": [
        "liste= range(20)"
      ],
      "metadata": {
        "id": "-PrybkSwFCN9"
      },
      "execution_count": null,
      "outputs": []
    },
    {
      "cell_type": "code",
      "source": [
        "liste1=[]\n",
        "for x in liste:\n",
        "  if x%2 == 0:\n",
        "    liste1.append(x)"
      ],
      "metadata": {
        "id": "EN5Y-TmvFE3j"
      },
      "execution_count": null,
      "outputs": []
    },
    {
      "cell_type": "code",
      "source": [
        "liste1"
      ],
      "metadata": {
        "colab": {
          "base_uri": "https://localhost:8080/"
        },
        "id": "MldsIUFQFPqx",
        "outputId": "2a1ab9b6-9e22-445c-d693-76b346276098"
      },
      "execution_count": null,
      "outputs": [
        {
          "output_type": "execute_result",
          "data": {
            "text/plain": [
              "[0, 2, 4, 6, 8, 10, 12, 14, 16, 18]"
            ]
          },
          "metadata": {},
          "execution_count": 69
        }
      ]
    },
    {
      "cell_type": "code",
      "source": [
        "liste2=[x for x in liste if x%2==0]\n",
        "liste2"
      ],
      "metadata": {
        "colab": {
          "base_uri": "https://localhost:8080/"
        },
        "id": "_waRmfeYFTbw",
        "outputId": "866488f5-8405-417d-b76a-d5f4706743ef"
      },
      "execution_count": null,
      "outputs": [
        {
          "output_type": "execute_result",
          "data": {
            "text/plain": [
              "[0, 2, 4, 6, 8, 10, 12, 14, 16, 18]"
            ]
          },
          "metadata": {},
          "execution_count": 70
        }
      ]
    },
    {
      "cell_type": "code",
      "source": [
        "liste2=[str(x) for x in liste2]\n",
        "print(liste2)"
      ],
      "metadata": {
        "colab": {
          "base_uri": "https://localhost:8080/"
        },
        "id": "684beFWWFbCT",
        "outputId": "9d68a5be-9f1e-4a33-e8ab-4ed8d5ff208e"
      },
      "execution_count": null,
      "outputs": [
        {
          "output_type": "stream",
          "name": "stdout",
          "text": [
            "['0', '2', '4', '6', '8', '10', '12', '14', '16', '18']\n"
          ]
        }
      ]
    },
    {
      "cell_type": "code",
      "source": [
        "m2_dict={i : 2*i for i in range(20) if i%2==0}\n",
        "m2_dict"
      ],
      "metadata": {
        "colab": {
          "base_uri": "https://localhost:8080/"
        },
        "id": "gUwT0axiFuvE",
        "outputId": "6aefef37-1bf7-4afc-dfe8-a7f2d0ca6742"
      },
      "execution_count": null,
      "outputs": [
        {
          "output_type": "execute_result",
          "data": {
            "text/plain": [
              "{0: 0, 2: 4, 4: 8, 6: 12, 8: 16, 10: 20, 12: 24, 14: 28, 16: 32, 18: 36}"
            ]
          },
          "metadata": {},
          "execution_count": 72
        }
      ]
    },
    {
      "cell_type": "code",
      "source": [
        "equipe={'Juventus':'Benatia','Barcelone':'Messi','Manu':'Pogha'}\n"
      ],
      "metadata": {
        "id": "AMOZ9hlUGG_f"
      },
      "execution_count": null,
      "outputs": []
    },
    {
      "cell_type": "code",
      "source": [
        "L=[i*2 for i in range(10)]\n",
        "L"
      ],
      "metadata": {
        "colab": {
          "base_uri": "https://localhost:8080/"
        },
        "id": "TGZGg590GdrF",
        "outputId": "8d386995-371f-4946-85f3-a18b50a53595"
      },
      "execution_count": null,
      "outputs": [
        {
          "output_type": "execute_result",
          "data": {
            "text/plain": [
              "[0, 2, 4, 6, 8, 10, 12, 14, 16, 18]"
            ]
          },
          "metadata": {},
          "execution_count": 74
        }
      ]
    },
    {
      "cell_type": "code",
      "source": [
        "sum(L)"
      ],
      "metadata": {
        "colab": {
          "base_uri": "https://localhost:8080/"
        },
        "id": "aoSD3MVpGmNa",
        "outputId": "f8a11080-8f75-460a-d7a3-042249307fef"
      },
      "execution_count": null,
      "outputs": [
        {
          "output_type": "execute_result",
          "data": {
            "text/plain": [
              "90"
            ]
          },
          "metadata": {},
          "execution_count": 75
        }
      ]
    },
    {
      "cell_type": "code",
      "source": [
        "#economie de mémoire \n",
        "g=(i**2 for i in range(10))\n",
        "g"
      ],
      "metadata": {
        "colab": {
          "base_uri": "https://localhost:8080/"
        },
        "id": "Qmni8yQHGoWP",
        "outputId": "acea0372-f614-45c3-df5d-285a6ec1e951"
      },
      "execution_count": null,
      "outputs": [
        {
          "output_type": "execute_result",
          "data": {
            "text/plain": [
              "<generator object <genexpr> at 0x7f60c7ad66d0>"
            ]
          },
          "metadata": {},
          "execution_count": 76
        }
      ]
    },
    {
      "cell_type": "code",
      "source": [
        "#now he calculates it\n",
        "sum(g)"
      ],
      "metadata": {
        "colab": {
          "base_uri": "https://localhost:8080/"
        },
        "id": "QUwD1ML-GuTS",
        "outputId": "8c4bd8ef-6c44-4c7e-b0a1-737ab8578d00"
      },
      "execution_count": null,
      "outputs": [
        {
          "output_type": "execute_result",
          "data": {
            "text/plain": [
              "285"
            ]
          },
          "metadata": {},
          "execution_count": 77
        }
      ]
    },
    {
      "cell_type": "markdown",
      "source": [
        "### Tuples"
      ],
      "metadata": {
        "id": "rwjWTPoLHUdb"
      }
    },
    {
      "cell_type": "code",
      "source": [
        "tuple1='Bonjour',2022, 60000"
      ],
      "metadata": {
        "id": "HDck6SThHFyq"
      },
      "execution_count": null,
      "outputs": []
    },
    {
      "cell_type": "code",
      "source": [
        "type(tuple1)"
      ],
      "metadata": {
        "colab": {
          "base_uri": "https://localhost:8080/"
        },
        "id": "Zhavj0GmHc6e",
        "outputId": "696d1cf1-ba33-49eb-e82f-93e8f83c8e91"
      },
      "execution_count": null,
      "outputs": [
        {
          "output_type": "execute_result",
          "data": {
            "text/plain": [
              "tuple"
            ]
          },
          "metadata": {},
          "execution_count": 79
        }
      ]
    },
    {
      "cell_type": "code",
      "source": [
        "tuple2=(2030,'Python',1)\n",
        "type(tuple2)"
      ],
      "metadata": {
        "colab": {
          "base_uri": "https://localhost:8080/"
        },
        "id": "JyeLx3XgHgiM",
        "outputId": "d75c01a9-3c32-491a-baad-1dabf8ac6841"
      },
      "execution_count": null,
      "outputs": [
        {
          "output_type": "execute_result",
          "data": {
            "text/plain": [
              "tuple"
            ]
          },
          "metadata": {},
          "execution_count": 81
        }
      ]
    },
    {
      "cell_type": "code",
      "source": [
        "t3,t4,t5='Bonjour',2022,60000\n",
        "t3"
      ],
      "metadata": {
        "colab": {
          "base_uri": "https://localhost:8080/",
          "height": 35
        },
        "id": "KzkDLPgLHmnX",
        "outputId": "626d9130-299b-45ad-f503-b5ed2de820e9"
      },
      "execution_count": null,
      "outputs": [
        {
          "output_type": "execute_result",
          "data": {
            "text/plain": [
              "'Bonjour'"
            ],
            "application/vnd.google.colaboratory.intrinsic+json": {
              "type": "string"
            }
          },
          "metadata": {},
          "execution_count": 83
        }
      ]
    },
    {
      "cell_type": "code",
      "source": [
        "t6,t7='Bonjour',(2022,60000)\n",
        "t7"
      ],
      "metadata": {
        "colab": {
          "base_uri": "https://localhost:8080/"
        },
        "id": "bhuPoKdlIAHP",
        "outputId": "cdc67267-d5e9-4ad6-e323-a87cd49e9b80"
      },
      "execution_count": null,
      "outputs": [
        {
          "output_type": "execute_result",
          "data": {
            "text/plain": [
              "(2022, 60000)"
            ]
          },
          "metadata": {},
          "execution_count": 87
        }
      ]
    },
    {
      "cell_type": "code",
      "source": [
        "t8=t7,1\n",
        "t8"
      ],
      "metadata": {
        "colab": {
          "base_uri": "https://localhost:8080/"
        },
        "id": "hkNoV5csIDDY",
        "outputId": "dd163204-77d5-4cc5-a037-d1a7958740c7"
      },
      "execution_count": null,
      "outputs": [
        {
          "output_type": "execute_result",
          "data": {
            "text/plain": [
              "((2022, 60000), 1)"
            ]
          },
          "metadata": {},
          "execution_count": 88
        }
      ]
    },
    {
      "cell_type": "code",
      "source": [
        "t9,t10=t7\n",
        "t9"
      ],
      "metadata": {
        "colab": {
          "base_uri": "https://localhost:8080/"
        },
        "id": "G-kK3daeITLs",
        "outputId": "839a8e22-4765-4881-ce4d-73c858846373"
      },
      "execution_count": null,
      "outputs": [
        {
          "output_type": "execute_result",
          "data": {
            "text/plain": [
              "2022"
            ]
          },
          "metadata": {},
          "execution_count": 91
        }
      ]
    },
    {
      "cell_type": "code",
      "source": [
        "for i in t7:\n",
        "  print(i)"
      ],
      "metadata": {
        "colab": {
          "base_uri": "https://localhost:8080/"
        },
        "id": "uo1akm4zIai3",
        "outputId": "2f175eb9-8267-4243-cd3d-5a3d63de70c2"
      },
      "execution_count": null,
      "outputs": [
        {
          "output_type": "stream",
          "name": "stdout",
          "text": [
            "2022\n",
            "60000\n"
          ]
        }
      ]
    },
    {
      "cell_type": "code",
      "source": [
        "t10=15\n",
        "t11=(15)\n",
        "type(t10),type(t11)"
      ],
      "metadata": {
        "colab": {
          "base_uri": "https://localhost:8080/"
        },
        "id": "cj2nwfoRIgCV",
        "outputId": "8527b162-c7d2-4e4c-c5f3-ac8ffe63a39d"
      },
      "execution_count": null,
      "outputs": [
        {
          "output_type": "execute_result",
          "data": {
            "text/plain": [
              "(int, int)"
            ]
          },
          "metadata": {},
          "execution_count": 93
        }
      ]
    },
    {
      "cell_type": "code",
      "source": [
        "t12=(15,)\n",
        "type(t12)"
      ],
      "metadata": {
        "colab": {
          "base_uri": "https://localhost:8080/"
        },
        "id": "_KXlFwVeIqiB",
        "outputId": "6936965e-2ce7-4e05-bbe2-8c9e8a3e1ba2"
      },
      "execution_count": null,
      "outputs": [
        {
          "output_type": "execute_result",
          "data": {
            "text/plain": [
              "tuple"
            ]
          },
          "metadata": {},
          "execution_count": 94
        }
      ]
    },
    {
      "cell_type": "code",
      "source": [
        "t7[0]+1"
      ],
      "metadata": {
        "colab": {
          "base_uri": "https://localhost:8080/"
        },
        "id": "xqi2VtCcIusv",
        "outputId": "2b2e9fa1-d99a-46cb-c83e-935e6df661e0"
      },
      "execution_count": null,
      "outputs": [
        {
          "output_type": "execute_result",
          "data": {
            "text/plain": [
              "2023"
            ]
          },
          "metadata": {},
          "execution_count": 95
        }
      ]
    },
    {
      "cell_type": "code",
      "source": [
        "t7[0]+t7[1]"
      ],
      "metadata": {
        "colab": {
          "base_uri": "https://localhost:8080/"
        },
        "id": "9BVLx62yJReb",
        "outputId": "b91d121c-578e-4497-e1ba-47ab528c0382"
      },
      "execution_count": null,
      "outputs": [
        {
          "output_type": "execute_result",
          "data": {
            "text/plain": [
              "62022"
            ]
          },
          "metadata": {},
          "execution_count": 96
        }
      ]
    },
    {
      "cell_type": "markdown",
      "source": [
        "### Comparaison des séquences"
      ],
      "metadata": {
        "id": "2dYWu-N2JdaW"
      }
    },
    {
      "cell_type": "code",
      "source": [
        "(1,2,3) == (1,2,3)"
      ],
      "metadata": {
        "colab": {
          "base_uri": "https://localhost:8080/"
        },
        "id": "sYKRgi2BJXmj",
        "outputId": "e0342aec-3eeb-4216-e454-9589557cdb52"
      },
      "execution_count": null,
      "outputs": [
        {
          "output_type": "execute_result",
          "data": {
            "text/plain": [
              "True"
            ]
          },
          "metadata": {},
          "execution_count": 97
        }
      ]
    },
    {
      "cell_type": "code",
      "source": [
        "(0,2,3) < (1,2,3)"
      ],
      "metadata": {
        "colab": {
          "base_uri": "https://localhost:8080/"
        },
        "id": "xgLBfBGnJmtq",
        "outputId": "56b03afb-0b89-44a2-9d2b-25d75282c86a"
      },
      "execution_count": null,
      "outputs": [
        {
          "output_type": "execute_result",
          "data": {
            "text/plain": [
              "True"
            ]
          },
          "metadata": {},
          "execution_count": 98
        }
      ]
    },
    {
      "cell_type": "code",
      "source": [
        "[2,2,3] < [1,2,3]"
      ],
      "metadata": {
        "colab": {
          "base_uri": "https://localhost:8080/"
        },
        "id": "r1DQEyibJs-c",
        "outputId": "5af841a1-6fb7-490c-fb2b-21df7449a2c7"
      },
      "execution_count": null,
      "outputs": [
        {
          "output_type": "execute_result",
          "data": {
            "text/plain": [
              "False"
            ]
          },
          "metadata": {},
          "execution_count": 99
        }
      ]
    },
    {
      "cell_type": "code",
      "source": [
        "#ordre des alphabets\n",
        "'C'<'Python'"
      ],
      "metadata": {
        "colab": {
          "base_uri": "https://localhost:8080/"
        },
        "id": "UCQq69NcJzd2",
        "outputId": "a3b696b5-44c5-44cb-98de-ed699bb356ef"
      },
      "execution_count": null,
      "outputs": [
        {
          "output_type": "execute_result",
          "data": {
            "text/plain": [
              "True"
            ]
          },
          "metadata": {},
          "execution_count": 100
        }
      ]
    },
    {
      "cell_type": "code",
      "source": [
        "#comparaison se base sur le nombre des elemnets\n",
        "{0,1,2,3} > {0,1,2}"
      ],
      "metadata": {
        "colab": {
          "base_uri": "https://localhost:8080/"
        },
        "id": "g-6ryrQHJ3Px",
        "outputId": "a7990f67-5df6-44c0-9e60-07741a835815"
      },
      "execution_count": null,
      "outputs": [
        {
          "output_type": "execute_result",
          "data": {
            "text/plain": [
              "True"
            ]
          },
          "metadata": {},
          "execution_count": 101
        }
      ]
    },
    {
      "cell_type": "code",
      "source": [
        "{0,1} > {0,1,2}"
      ],
      "metadata": {
        "colab": {
          "base_uri": "https://localhost:8080/"
        },
        "id": "vqINNWjDKKi2",
        "outputId": "4c6aee1c-e65f-46d8-8ae3-01eabc90047b"
      },
      "execution_count": null,
      "outputs": [
        {
          "output_type": "execute_result",
          "data": {
            "text/plain": [
              "False"
            ]
          },
          "metadata": {},
          "execution_count": 102
        }
      ]
    },
    {
      "cell_type": "code",
      "source": [
        "#comparaison element pa element\n",
        "[1,2,3]>[0,1,2]"
      ],
      "metadata": {
        "colab": {
          "base_uri": "https://localhost:8080/"
        },
        "id": "D_spKePkKOTw",
        "outputId": "0a48da88-42a1-447c-ef5a-664526a5cbac"
      },
      "execution_count": null,
      "outputs": [
        {
          "output_type": "execute_result",
          "data": {
            "text/plain": [
              "True"
            ]
          },
          "metadata": {},
          "execution_count": 103
        }
      ]
    },
    {
      "cell_type": "markdown",
      "source": [
        "### Ensembles"
      ],
      "metadata": {
        "id": "1xhEUoJvKef7"
      }
    },
    {
      "cell_type": "code",
      "source": [
        "languages={'python','java','c','c++','python','java'}\n",
        "type(languages)"
      ],
      "metadata": {
        "colab": {
          "base_uri": "https://localhost:8080/"
        },
        "id": "VT4iHG92Kg6S",
        "outputId": "c97f5a48-7f71-46f2-de5f-c638f08c8434"
      },
      "execution_count": null,
      "outputs": [
        {
          "output_type": "execute_result",
          "data": {
            "text/plain": [
              "set"
            ]
          },
          "metadata": {},
          "execution_count": 104
        }
      ]
    },
    {
      "cell_type": "code",
      "source": [
        "print(languages)"
      ],
      "metadata": {
        "colab": {
          "base_uri": "https://localhost:8080/"
        },
        "id": "kPdpqbKcLMnB",
        "outputId": "b094ab6f-4c93-4d1d-e492-92345c78118f"
      },
      "execution_count": null,
      "outputs": [
        {
          "output_type": "stream",
          "name": "stdout",
          "text": [
            "{'c', 'python', 'java', 'c++'}\n"
          ]
        }
      ]
    },
    {
      "cell_type": "code",
      "source": [
        "'python' in languages"
      ],
      "metadata": {
        "colab": {
          "base_uri": "https://localhost:8080/"
        },
        "id": "XV4YWip4LXYV",
        "outputId": "d03e988f-3e8e-401b-d14c-0d1583505fa7"
      },
      "execution_count": null,
      "outputs": [
        {
          "output_type": "execute_result",
          "data": {
            "text/plain": [
              "True"
            ]
          },
          "metadata": {},
          "execution_count": 106
        }
      ]
    },
    {
      "cell_type": "code",
      "source": [
        "'R' in languages"
      ],
      "metadata": {
        "colab": {
          "base_uri": "https://localhost:8080/"
        },
        "id": "XmaJmdpfLZ9H",
        "outputId": "0df076c3-70b7-45bd-e834-abca6816afc5"
      },
      "execution_count": null,
      "outputs": [
        {
          "output_type": "execute_result",
          "data": {
            "text/plain": [
              "False"
            ]
          },
          "metadata": {},
          "execution_count": 107
        }
      ]
    },
    {
      "cell_type": "code",
      "source": [
        "s1=set('c')\n",
        "s2=set('c++')\n",
        "s2-s1"
      ],
      "metadata": {
        "colab": {
          "base_uri": "https://localhost:8080/"
        },
        "id": "liZW9kQQLc7B",
        "outputId": "071d6520-1554-4206-f38c-4d8f15b2e775"
      },
      "execution_count": null,
      "outputs": [
        {
          "output_type": "execute_result",
          "data": {
            "text/plain": [
              "{'+'}"
            ]
          },
          "metadata": {},
          "execution_count": 109
        }
      ]
    },
    {
      "cell_type": "code",
      "source": [
        "s3=set('python')\n",
        "s4=set('numpy')\n",
        "s3|s4"
      ],
      "metadata": {
        "colab": {
          "base_uri": "https://localhost:8080/"
        },
        "id": "mOmNlcByLpyJ",
        "outputId": "bb523db3-3e7a-45c9-cd4e-219d42ee9006"
      },
      "execution_count": null,
      "outputs": [
        {
          "output_type": "execute_result",
          "data": {
            "text/plain": [
              "{'h', 'm', 'n', 'o', 'p', 't', 'u', 'y'}"
            ]
          },
          "metadata": {},
          "execution_count": 110
        }
      ]
    },
    {
      "cell_type": "code",
      "source": [
        "#intersection\n",
        "s3&s4"
      ],
      "metadata": {
        "colab": {
          "base_uri": "https://localhost:8080/"
        },
        "id": "-hMCZ5IuLzq_",
        "outputId": "e2dba2e9-e3d7-4108-bf0f-0d192d1c4b31"
      },
      "execution_count": null,
      "outputs": [
        {
          "output_type": "execute_result",
          "data": {
            "text/plain": [
              "{'n', 'p', 'y'}"
            ]
          },
          "metadata": {},
          "execution_count": 111
        }
      ]
    },
    {
      "cell_type": "code",
      "source": [
        "# s3/s4 et s4/s3\n",
        "s3^s4"
      ],
      "metadata": {
        "colab": {
          "base_uri": "https://localhost:8080/"
        },
        "id": "-O7Dyk3XL11Y",
        "outputId": "07603d8d-f636-4882-a74b-2bc688cabf43"
      },
      "execution_count": null,
      "outputs": [
        {
          "output_type": "execute_result",
          "data": {
            "text/plain": [
              "{'h', 'm', 'o', 't', 'u'}"
            ]
          },
          "metadata": {},
          "execution_count": 112
        }
      ]
    },
    {
      "cell_type": "code",
      "source": [
        "s5={x for x in 'python' if x not in 'numpy'}\n",
        "s5"
      ],
      "metadata": {
        "colab": {
          "base_uri": "https://localhost:8080/"
        },
        "id": "3OzaehHfL8C8",
        "outputId": "a357fff1-a187-45e0-d90f-761613b9ad9f"
      },
      "execution_count": null,
      "outputs": [
        {
          "output_type": "execute_result",
          "data": {
            "text/plain": [
              "{'h', 'o', 't'}"
            ]
          },
          "metadata": {},
          "execution_count": 115
        }
      ]
    },
    {
      "cell_type": "markdown",
      "source": [
        "### Les conditions"
      ],
      "metadata": {
        "id": "a4S-aGZgMfud"
      }
    },
    {
      "cell_type": "code",
      "source": [
        "meteo='pluie'\n",
        "if meteo =='pluie':\n",
        "  print('Match annulé')\n",
        "print(\"Bon courage\")"
      ],
      "metadata": {
        "colab": {
          "base_uri": "https://localhost:8080/"
        },
        "id": "uAEJnf-3MoeE",
        "outputId": "6932a494-cf04-4323-ebea-fed4ba2e4d49"
      },
      "execution_count": null,
      "outputs": [
        {
          "output_type": "stream",
          "name": "stdout",
          "text": [
            "Match annulé\n",
            "Bon courage\n"
          ]
        }
      ]
    },
    {
      "cell_type": "code",
      "source": [
        "meteo='beau temps'\n",
        "if meteo =='pluie':\n",
        "  print('Match annulé')\n",
        "print(\"Bon courage\")"
      ],
      "metadata": {
        "colab": {
          "base_uri": "https://localhost:8080/"
        },
        "id": "OdKVQlnoM41R",
        "outputId": "a7a6eb3a-6440-4c5b-cc4f-7f8d1b69660b"
      },
      "execution_count": null,
      "outputs": [
        {
          "output_type": "stream",
          "name": "stdout",
          "text": [
            "Bon courage\n"
          ]
        }
      ]
    },
    {
      "cell_type": "code",
      "source": [
        "import datetime as dt\n",
        "heure=dt.datetime.now()\n",
        "if heure.hour < 12:\n",
        "  print('Bonne journée')\n",
        "else:\n",
        "  print('Bon, après-midi')\n",
        "print('Bon courage')"
      ],
      "metadata": {
        "colab": {
          "base_uri": "https://localhost:8080/"
        },
        "id": "gEJlY6rnNAcu",
        "outputId": "f26960d1-9c6b-406a-b255-e371babf8f54"
      },
      "execution_count": null,
      "outputs": [
        {
          "output_type": "stream",
          "name": "stdout",
          "text": [
            "Bon, après-midi\n",
            "Bon courage\n"
          ]
        }
      ]
    },
    {
      "cell_type": "code",
      "source": [
        "if (heure.hour >4)&(heure.hour < 12):\n",
        "  print('Bonne journée')\n",
        "elif (heure.hour> 12)&(heure.hour < 18):\n",
        "    print('Bon après-midi')\n",
        "\n",
        "elif (heure.hour> 18)&(heure.hour < 23):\n",
        "  print('bonne soirée')\n",
        "else:\n",
        "  print('Bon courage')\n",
        "print('Bon courage')\n",
        "\n"
      ],
      "metadata": {
        "colab": {
          "base_uri": "https://localhost:8080/"
        },
        "id": "0au91C5wNrzG",
        "outputId": "f93b447b-3a73-494e-e30b-855793c7cd7f"
      },
      "execution_count": null,
      "outputs": [
        {
          "output_type": "stream",
          "name": "stdout",
          "text": [
            "bonne soirée\n",
            "Bon courage\n"
          ]
        }
      ]
    },
    {
      "cell_type": "markdown",
      "source": [
        "### Boucle While"
      ],
      "metadata": {
        "id": "W7N2mhrVOmvZ"
      }
    },
    {
      "cell_type": "code",
      "source": [
        "liste = [x**2 for x in range(20)]   \n",
        "liste"
      ],
      "metadata": {
        "id": "B5EQJn0IOz0r",
        "colab": {
          "base_uri": "https://localhost:8080/"
        },
        "outputId": "a1c41aed-77ca-4e72-d74e-ecb2389d5f7e"
      },
      "execution_count": null,
      "outputs": [
        {
          "output_type": "execute_result",
          "data": {
            "text/plain": [
              "[0,\n",
              " 1,\n",
              " 4,\n",
              " 9,\n",
              " 16,\n",
              " 25,\n",
              " 36,\n",
              " 49,\n",
              " 64,\n",
              " 81,\n",
              " 100,\n",
              " 121,\n",
              " 144,\n",
              " 169,\n",
              " 196,\n",
              " 225,\n",
              " 256,\n",
              " 289,\n",
              " 324,\n",
              " 361]"
            ]
          },
          "metadata": {},
          "execution_count": 1
        }
      ]
    },
    {
      "cell_type": "code",
      "source": [
        "compteur = 10\n",
        "while compteur < 20:\n",
        "    print(liste[compteur])\n",
        "    compteur += 1\n",
        "print('Terminé')"
      ],
      "metadata": {
        "colab": {
          "base_uri": "https://localhost:8080/"
        },
        "id": "TumvFdaMe6nM",
        "outputId": "8875c4e9-3169-450f-a5fc-7d561aa081ab"
      },
      "execution_count": null,
      "outputs": [
        {
          "output_type": "stream",
          "name": "stdout",
          "text": [
            "100\n",
            "121\n",
            "144\n",
            "169\n",
            "196\n",
            "225\n",
            "256\n",
            "289\n",
            "324\n",
            "361\n",
            "Terminé\n"
          ]
        }
      ]
    },
    {
      "cell_type": "code",
      "source": [
        "compteur = 10\n",
        "while compteur < 20:\n",
        "    print(liste[compteur])\n",
        "    compteur += 2\n",
        "print('Terminé')"
      ],
      "metadata": {
        "colab": {
          "base_uri": "https://localhost:8080/"
        },
        "id": "3HsdyaA_fF2V",
        "outputId": "1536e238-0426-4b20-cfa5-f87c5cff1828"
      },
      "execution_count": null,
      "outputs": [
        {
          "output_type": "stream",
          "name": "stdout",
          "text": [
            "100\n",
            "144\n",
            "196\n",
            "256\n",
            "324\n",
            "Terminé\n"
          ]
        }
      ]
    },
    {
      "cell_type": "code",
      "source": [
        "compteur = 10\n",
        "while compteur < 20:\n",
        "    if int(liste[compteur]/2) == liste[compteur]/2:\n",
        "        compteur += 1\n",
        "        continue\n",
        "    print(liste[compteur])\n",
        "    compteur += 1\n",
        "print('Terminé')"
      ],
      "metadata": {
        "colab": {
          "base_uri": "https://localhost:8080/"
        },
        "id": "SNRSPBAWfJdt",
        "outputId": "3e7b566e-9f14-49d4-ef98-b95c3c7952fc"
      },
      "execution_count": null,
      "outputs": [
        {
          "output_type": "stream",
          "name": "stdout",
          "text": [
            "121\n",
            "169\n",
            "225\n",
            "289\n",
            "361\n",
            "Terminé\n"
          ]
        }
      ]
    },
    {
      "cell_type": "code",
      "source": [
        "liste_1 = [0,3,6,9,10,12,15]\n",
        "print(\"Avant premier nombre non divisible par 3\")\n",
        "compteur = 0\n",
        "while compteur < len(liste_1):\n",
        "    if int(liste_1[compteur] / 3) != liste_1[compteur] / 3:\n",
        "        break\n",
        "    print(liste_1[compteur])\n",
        "    compteur += 1\n",
        "print('Terminé')"
      ],
      "metadata": {
        "colab": {
          "base_uri": "https://localhost:8080/"
        },
        "id": "nWUorsuYfNGN",
        "outputId": "e32b5dff-e6e5-4359-f923-cd897a4918fc"
      },
      "execution_count": null,
      "outputs": [
        {
          "output_type": "stream",
          "name": "stdout",
          "text": [
            "Avant premier nombre non divisible par 3\n",
            "0\n",
            "3\n",
            "6\n",
            "9\n",
            "Terminé\n"
          ]
        }
      ]
    },
    {
      "cell_type": "markdown",
      "source": [
        "### Boucle for_range"
      ],
      "metadata": {
        "id": "iED6tSuaf-Wr"
      }
    },
    {
      "cell_type": "code",
      "source": [
        "liste_1=['salarié 1','salarié 2','salarié 3','salarié 4','salarié 5','salarié 6','salarié 7','salarié 8','salarié 9']\n",
        "liste_1"
      ],
      "metadata": {
        "colab": {
          "base_uri": "https://localhost:8080/"
        },
        "id": "1hSCXfMRgDNK",
        "outputId": "185be50c-e965-463f-f79c-bdcb43695bea"
      },
      "execution_count": null,
      "outputs": [
        {
          "output_type": "execute_result",
          "data": {
            "text/plain": [
              "['salarié 1',\n",
              " 'salarié 2',\n",
              " 'salarié 3',\n",
              " 'salarié 4',\n",
              " 'salarié 5',\n",
              " 'salarié 6',\n",
              " 'salarié 7',\n",
              " 'salarié 8',\n",
              " 'salarié 9']"
            ]
          },
          "metadata": {},
          "execution_count": 8
        }
      ]
    },
    {
      "cell_type": "code",
      "source": [
        "for i in liste_1:\n",
        "  print(\"Le \"+ i)"
      ],
      "metadata": {
        "colab": {
          "base_uri": "https://localhost:8080/"
        },
        "id": "e8Nf81dDhD8_",
        "outputId": "725834f5-0488-4038-fbc7-df5b5fc4a9da"
      },
      "execution_count": null,
      "outputs": [
        {
          "output_type": "stream",
          "name": "stdout",
          "text": [
            "Le salarié 1\n",
            "Le salarié 2\n",
            "Le salarié 3\n",
            "Le salarié 4\n",
            "Le salarié 5\n",
            "Le salarié 6\n",
            "Le salarié 7\n",
            "Le salarié 8\n",
            "Le salarié 9\n"
          ]
        }
      ]
    },
    {
      "cell_type": "code",
      "source": [
        "for i in range(5):\n",
        "  print(liste_1[i]+ \" correspond a l'indice \"+ str(i))"
      ],
      "metadata": {
        "colab": {
          "base_uri": "https://localhost:8080/"
        },
        "id": "bsTLsYeehMOr",
        "outputId": "32729561-b4ea-4db8-f9ad-b88be3182023"
      },
      "execution_count": null,
      "outputs": [
        {
          "output_type": "stream",
          "name": "stdout",
          "text": [
            "salarié 1 correspond a l'indice 0\n",
            "salarié 2 correspond a l'indice 1\n",
            "salarié 3 correspond a l'indice 2\n",
            "salarié 4 correspond a l'indice 3\n",
            "salarié 5 correspond a l'indice 4\n"
          ]
        }
      ]
    },
    {
      "cell_type": "code",
      "source": [
        "for i in range(2,5):\n",
        "  print (liste_1[i])"
      ],
      "metadata": {
        "colab": {
          "base_uri": "https://localhost:8080/"
        },
        "id": "nrF0mYXmh7ZH",
        "outputId": "56e16e6e-8143-4bc2-bf88-98cfd093785f"
      },
      "execution_count": null,
      "outputs": [
        {
          "output_type": "stream",
          "name": "stdout",
          "text": [
            "salarié 3\n",
            "salarié 4\n",
            "salarié 5\n"
          ]
        }
      ]
    },
    {
      "cell_type": "code",
      "source": [
        "for i in range(0,9,2):\n",
        "  print (liste_1[i])"
      ],
      "metadata": {
        "colab": {
          "base_uri": "https://localhost:8080/"
        },
        "id": "NbjSmXKNiLhP",
        "outputId": "aef252b0-768d-45ea-81ea-a8a1dbd92d6b"
      },
      "execution_count": null,
      "outputs": [
        {
          "output_type": "stream",
          "name": "stdout",
          "text": [
            "salarié 1\n",
            "salarié 3\n",
            "salarié 5\n",
            "salarié 7\n",
            "salarié 9\n"
          ]
        }
      ]
    },
    {
      "cell_type": "markdown",
      "source": [
        "### removeprefix_removesuffix_map"
      ],
      "metadata": {
        "id": "EzY_CVAoicFY"
      }
    },
    {
      "cell_type": "code",
      "source": [
        "#available on python 3.9\n",
        "x='Bonjour le monde'\n",
        "x.removeprefix('Bonjour')\n",
        "#' Le monde'\n",
        "x.removesuffix('Le monde')\n",
        "#'Bonjour '"
      ],
      "metadata": {
        "id": "8DVfrro0inE-"
      },
      "execution_count": null,
      "outputs": []
    }
  ]
}