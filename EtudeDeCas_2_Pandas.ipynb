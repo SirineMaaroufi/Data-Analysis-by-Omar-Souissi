{
  "cells": [
    {
      "cell_type": "markdown",
      "metadata": {
        "id": "view-in-github",
        "colab_type": "text"
      },
      "source": [
        "<a href=\"https://colab.research.google.com/github/SirineMaaroufi/Data-Analysis-by-Omar-Souissi/blob/main/EtudeDeCas_2_Pandas.ipynb\" target=\"_parent\"><img src=\"https://colab.research.google.com/assets/colab-badge.svg\" alt=\"Open In Colab\"/></a>"
      ]
    },
    {
      "cell_type": "code",
      "execution_count": null,
      "metadata": {
        "id": "eFua1dIAQkAE"
      },
      "outputs": [],
      "source": [
        "import pandas as pd\n",
        "import numpy as np"
      ]
    },
    {
      "cell_type": "code",
      "execution_count": null,
      "metadata": {
        "id": "YEsNUfGEQkAK"
      },
      "outputs": [],
      "source": [
        "d1=pd.read_pickle('d.pkl')"
      ]
    },
    {
      "cell_type": "code",
      "execution_count": null,
      "metadata": {
        "id": "1lGnJXcWQkAL",
        "outputId": "7aa149a4-406d-4040-b267-2d866a1bf7d7"
      },
      "outputs": [
        {
          "data": {
            "text/html": [
              "<div>\n",
              "<style scoped>\n",
              "    .dataframe tbody tr th:only-of-type {\n",
              "        vertical-align: middle;\n",
              "    }\n",
              "\n",
              "    .dataframe tbody tr th {\n",
              "        vertical-align: top;\n",
              "    }\n",
              "\n",
              "    .dataframe thead th {\n",
              "        text-align: right;\n",
              "    }\n",
              "</style>\n",
              "<table border=\"1\" class=\"dataframe\">\n",
              "  <thead>\n",
              "    <tr style=\"text-align: right;\">\n",
              "      <th></th>\n",
              "      <th>Date</th>\n",
              "      <th>Prix</th>\n",
              "      <th>Variation 24h</th>\n",
              "    </tr>\n",
              "  </thead>\n",
              "  <tbody>\n",
              "    <tr>\n",
              "      <th>0</th>\n",
              "      <td>2013-01-28</td>\n",
              "      <td>13.05</td>\n",
              "      <td>0%</td>\n",
              "    </tr>\n",
              "    <tr>\n",
              "      <th>1</th>\n",
              "      <td>2013-01-29</td>\n",
              "      <td>13.20</td>\n",
              "      <td>1.14%</td>\n",
              "    </tr>\n",
              "    <tr>\n",
              "      <th>2</th>\n",
              "      <td>2013-01-30</td>\n",
              "      <td>13.79</td>\n",
              "      <td>4.28%</td>\n",
              "    </tr>\n",
              "    <tr>\n",
              "      <th>3</th>\n",
              "      <td>2013-01-31</td>\n",
              "      <td>14.56</td>\n",
              "      <td>5.29%</td>\n",
              "    </tr>\n",
              "    <tr>\n",
              "      <th>4</th>\n",
              "      <td>2013-02-01</td>\n",
              "      <td>14.75</td>\n",
              "      <td>1.29%</td>\n",
              "    </tr>\n",
              "  </tbody>\n",
              "</table>\n",
              "</div>"
            ],
            "text/plain": [
              "         Date   Prix Variation 24h\n",
              "0  2013-01-28  13.05            0%\n",
              "1  2013-01-29  13.20         1.14%\n",
              "2  2013-01-30  13.79         4.28%\n",
              "3  2013-01-31  14.56         5.29%\n",
              "4  2013-02-01  14.75         1.29%"
            ]
          },
          "execution_count": 3,
          "metadata": {},
          "output_type": "execute_result"
        }
      ],
      "source": [
        "d1.head()"
      ]
    },
    {
      "cell_type": "code",
      "execution_count": null,
      "metadata": {
        "id": "vfhDTT37QkAN",
        "outputId": "599b7031-451d-45a5-9378-3275eefe51d7"
      },
      "outputs": [
        {
          "data": {
            "text/html": [
              "<div>\n",
              "<style scoped>\n",
              "    .dataframe tbody tr th:only-of-type {\n",
              "        vertical-align: middle;\n",
              "    }\n",
              "\n",
              "    .dataframe tbody tr th {\n",
              "        vertical-align: top;\n",
              "    }\n",
              "\n",
              "    .dataframe thead th {\n",
              "        text-align: right;\n",
              "    }\n",
              "</style>\n",
              "<table border=\"1\" class=\"dataframe\">\n",
              "  <thead>\n",
              "    <tr style=\"text-align: right;\">\n",
              "      <th></th>\n",
              "      <th>Prix</th>\n",
              "    </tr>\n",
              "  </thead>\n",
              "  <tbody>\n",
              "    <tr>\n",
              "      <th>count</th>\n",
              "      <td>1890.000000</td>\n",
              "    </tr>\n",
              "    <tr>\n",
              "      <th>mean</th>\n",
              "      <td>1318.722280</td>\n",
              "    </tr>\n",
              "    <tr>\n",
              "      <th>std</th>\n",
              "      <td>2547.864754</td>\n",
              "    </tr>\n",
              "    <tr>\n",
              "      <th>min</th>\n",
              "      <td>13.050000</td>\n",
              "    </tr>\n",
              "    <tr>\n",
              "      <th>25%</th>\n",
              "      <td>223.680000</td>\n",
              "    </tr>\n",
              "    <tr>\n",
              "      <th>50%</th>\n",
              "      <td>391.415000</td>\n",
              "    </tr>\n",
              "    <tr>\n",
              "      <th>75%</th>\n",
              "      <td>768.952500</td>\n",
              "    </tr>\n",
              "    <tr>\n",
              "      <th>max</th>\n",
              "      <td>16376.300000</td>\n",
              "    </tr>\n",
              "  </tbody>\n",
              "</table>\n",
              "</div>"
            ],
            "text/plain": [
              "               Prix\n",
              "count   1890.000000\n",
              "mean    1318.722280\n",
              "std     2547.864754\n",
              "min       13.050000\n",
              "25%      223.680000\n",
              "50%      391.415000\n",
              "75%      768.952500\n",
              "max    16376.300000"
            ]
          },
          "execution_count": 4,
          "metadata": {},
          "output_type": "execute_result"
        }
      ],
      "source": [
        "d1.describe()"
      ]
    },
    {
      "cell_type": "code",
      "execution_count": null,
      "metadata": {
        "id": "BdwLANKCQkAO",
        "outputId": "897d9e14-d719-4dbc-e079-ad15eb3237f9"
      },
      "outputs": [
        {
          "data": {
            "text/html": [
              "<div>\n",
              "<style scoped>\n",
              "    .dataframe tbody tr th:only-of-type {\n",
              "        vertical-align: middle;\n",
              "    }\n",
              "\n",
              "    .dataframe tbody tr th {\n",
              "        vertical-align: top;\n",
              "    }\n",
              "\n",
              "    .dataframe thead th {\n",
              "        text-align: right;\n",
              "    }\n",
              "</style>\n",
              "<table border=\"1\" class=\"dataframe\">\n",
              "  <thead>\n",
              "    <tr style=\"text-align: right;\">\n",
              "      <th></th>\n",
              "      <th>Prix</th>\n",
              "    </tr>\n",
              "  </thead>\n",
              "  <tbody>\n",
              "    <tr>\n",
              "      <th>count</th>\n",
              "      <td>1890.00</td>\n",
              "    </tr>\n",
              "    <tr>\n",
              "      <th>mean</th>\n",
              "      <td>1318.72</td>\n",
              "    </tr>\n",
              "    <tr>\n",
              "      <th>std</th>\n",
              "      <td>2547.86</td>\n",
              "    </tr>\n",
              "    <tr>\n",
              "      <th>min</th>\n",
              "      <td>13.05</td>\n",
              "    </tr>\n",
              "    <tr>\n",
              "      <th>25%</th>\n",
              "      <td>223.68</td>\n",
              "    </tr>\n",
              "    <tr>\n",
              "      <th>50%</th>\n",
              "      <td>391.42</td>\n",
              "    </tr>\n",
              "    <tr>\n",
              "      <th>75%</th>\n",
              "      <td>768.95</td>\n",
              "    </tr>\n",
              "    <tr>\n",
              "      <th>max</th>\n",
              "      <td>16376.30</td>\n",
              "    </tr>\n",
              "  </tbody>\n",
              "</table>\n",
              "</div>"
            ],
            "text/plain": [
              "           Prix\n",
              "count   1890.00\n",
              "mean    1318.72\n",
              "std     2547.86\n",
              "min       13.05\n",
              "25%      223.68\n",
              "50%      391.42\n",
              "75%      768.95\n",
              "max    16376.30"
            ]
          },
          "execution_count": 5,
          "metadata": {},
          "output_type": "execute_result"
        }
      ],
      "source": [
        "d1.describe().round(2)"
      ]
    },
    {
      "cell_type": "code",
      "execution_count": null,
      "metadata": {
        "id": "bR_2No06QkAO",
        "outputId": "f87852a2-3b91-410d-8e19-6404d1840872"
      },
      "outputs": [
        {
          "data": {
            "text/html": [
              "<div>\n",
              "<style scoped>\n",
              "    .dataframe tbody tr th:only-of-type {\n",
              "        vertical-align: middle;\n",
              "    }\n",
              "\n",
              "    .dataframe tbody tr th {\n",
              "        vertical-align: top;\n",
              "    }\n",
              "\n",
              "    .dataframe thead th {\n",
              "        text-align: right;\n",
              "    }\n",
              "</style>\n",
              "<table border=\"1\" class=\"dataframe\">\n",
              "  <thead>\n",
              "    <tr style=\"text-align: right;\">\n",
              "      <th></th>\n",
              "      <th>Date</th>\n",
              "      <th>Prix</th>\n",
              "      <th>Variation 24h</th>\n",
              "    </tr>\n",
              "  </thead>\n",
              "  <tbody>\n",
              "    <tr>\n",
              "      <th>1785</th>\n",
              "      <td>2017-12-18</td>\n",
              "      <td>16376.3</td>\n",
              "      <td>9.14%</td>\n",
              "    </tr>\n",
              "  </tbody>\n",
              "</table>\n",
              "</div>"
            ],
            "text/plain": [
              "            Date     Prix Variation 24h\n",
              "1785  2017-12-18  16376.3         9.14%"
            ]
          },
          "execution_count": 10,
          "metadata": {},
          "output_type": "execute_result"
        }
      ],
      "source": [
        "d1.loc[d1['Prix']==16376.3]"
      ]
    },
    {
      "cell_type": "code",
      "execution_count": null,
      "metadata": {
        "id": "BVTMHZBDQkAP",
        "outputId": "ece953fe-6d5a-47a4-90ea-4b8d43efdef4"
      },
      "outputs": [
        {
          "data": {
            "text/html": [
              "<div>\n",
              "<style scoped>\n",
              "    .dataframe tbody tr th:only-of-type {\n",
              "        vertical-align: middle;\n",
              "    }\n",
              "\n",
              "    .dataframe tbody tr th {\n",
              "        vertical-align: top;\n",
              "    }\n",
              "\n",
              "    .dataframe thead th {\n",
              "        text-align: right;\n",
              "    }\n",
              "</style>\n",
              "<table border=\"1\" class=\"dataframe\">\n",
              "  <thead>\n",
              "    <tr style=\"text-align: right;\">\n",
              "      <th></th>\n",
              "      <th>Date</th>\n",
              "      <th>Prix</th>\n",
              "      <th>Variation 24h</th>\n",
              "    </tr>\n",
              "  </thead>\n",
              "  <tbody>\n",
              "    <tr>\n",
              "      <th>1775</th>\n",
              "      <td>2017-12-08</td>\n",
              "      <td>11795.53</td>\n",
              "      <td>15.71%</td>\n",
              "    </tr>\n",
              "    <tr>\n",
              "      <th>1776</th>\n",
              "      <td>2017-12-09</td>\n",
              "      <td>15046.27</td>\n",
              "      <td>21.6%</td>\n",
              "    </tr>\n",
              "    <tr>\n",
              "      <th>1777</th>\n",
              "      <td>2017-12-10</td>\n",
              "      <td>13503.35</td>\n",
              "      <td>-11.43%</td>\n",
              "    </tr>\n",
              "    <tr>\n",
              "      <th>1778</th>\n",
              "      <td>2017-12-11</td>\n",
              "      <td>12697.71</td>\n",
              "      <td>-6.34%</td>\n",
              "    </tr>\n",
              "    <tr>\n",
              "      <th>1779</th>\n",
              "      <td>2017-12-12</td>\n",
              "      <td>12669.29</td>\n",
              "      <td>-0.22%</td>\n",
              "    </tr>\n",
              "    <tr>\n",
              "      <th>1780</th>\n",
              "      <td>2017-12-13</td>\n",
              "      <td>13863.96</td>\n",
              "      <td>8.62%</td>\n",
              "    </tr>\n",
              "    <tr>\n",
              "      <th>1781</th>\n",
              "      <td>2017-12-14</td>\n",
              "      <td>14196.48</td>\n",
              "      <td>2.34%</td>\n",
              "    </tr>\n",
              "    <tr>\n",
              "      <th>1782</th>\n",
              "      <td>2017-12-15</td>\n",
              "      <td>13651.18</td>\n",
              "      <td>-3.99%</td>\n",
              "    </tr>\n",
              "    <tr>\n",
              "      <th>1783</th>\n",
              "      <td>2017-12-16</td>\n",
              "      <td>13832.48</td>\n",
              "      <td>1.31%</td>\n",
              "    </tr>\n",
              "    <tr>\n",
              "      <th>1784</th>\n",
              "      <td>2017-12-17</td>\n",
              "      <td>14879.76</td>\n",
              "      <td>7.04%</td>\n",
              "    </tr>\n",
              "    <tr>\n",
              "      <th>1785</th>\n",
              "      <td>2017-12-18</td>\n",
              "      <td>16376.30</td>\n",
              "      <td>9.14%</td>\n",
              "    </tr>\n",
              "    <tr>\n",
              "      <th>1786</th>\n",
              "      <td>2017-12-19</td>\n",
              "      <td>15992.81</td>\n",
              "      <td>-2.4%</td>\n",
              "    </tr>\n",
              "    <tr>\n",
              "      <th>1787</th>\n",
              "      <td>2017-12-20</td>\n",
              "      <td>15992.44</td>\n",
              "      <td>0%</td>\n",
              "    </tr>\n",
              "    <tr>\n",
              "      <th>1788</th>\n",
              "      <td>2017-12-21</td>\n",
              "      <td>14992.29</td>\n",
              "      <td>-6.67%</td>\n",
              "    </tr>\n",
              "    <tr>\n",
              "      <th>1789</th>\n",
              "      <td>2017-12-22</td>\n",
              "      <td>13961.36</td>\n",
              "      <td>-7.38%</td>\n",
              "    </tr>\n",
              "    <tr>\n",
              "      <th>1790</th>\n",
              "      <td>2017-12-23</td>\n",
              "      <td>13009.24</td>\n",
              "      <td>-7.32%</td>\n",
              "    </tr>\n",
              "    <tr>\n",
              "      <th>1791</th>\n",
              "      <td>2017-12-24</td>\n",
              "      <td>11867.06</td>\n",
              "      <td>-9.62%</td>\n",
              "    </tr>\n",
              "    <tr>\n",
              "      <th>1792</th>\n",
              "      <td>2017-12-25</td>\n",
              "      <td>12503.76</td>\n",
              "      <td>5.09%</td>\n",
              "    </tr>\n",
              "    <tr>\n",
              "      <th>1793</th>\n",
              "      <td>2017-12-26</td>\n",
              "      <td>11887.31</td>\n",
              "      <td>-5.19%</td>\n",
              "    </tr>\n",
              "    <tr>\n",
              "      <th>1794</th>\n",
              "      <td>2017-12-27</td>\n",
              "      <td>11733.82</td>\n",
              "      <td>-1.31%</td>\n",
              "    </tr>\n",
              "    <tr>\n",
              "      <th>1795</th>\n",
              "      <td>2017-12-28</td>\n",
              "      <td>13259.28</td>\n",
              "      <td>11.5%</td>\n",
              "    </tr>\n",
              "    <tr>\n",
              "      <th>1796</th>\n",
              "      <td>2017-12-29</td>\n",
              "      <td>13087.45</td>\n",
              "      <td>-1.31%</td>\n",
              "    </tr>\n",
              "    <tr>\n",
              "      <th>1797</th>\n",
              "      <td>2017-12-30</td>\n",
              "      <td>12264.02</td>\n",
              "      <td>-6.71%</td>\n",
              "    </tr>\n",
              "    <tr>\n",
              "      <th>1798</th>\n",
              "      <td>2017-12-31</td>\n",
              "      <td>12247.68</td>\n",
              "      <td>-0.13%</td>\n",
              "    </tr>\n",
              "    <tr>\n",
              "      <th>1799</th>\n",
              "      <td>2018-01-01</td>\n",
              "      <td>10654.40</td>\n",
              "      <td>-14.95%</td>\n",
              "    </tr>\n",
              "    <tr>\n",
              "      <th>1800</th>\n",
              "      <td>2018-01-02</td>\n",
              "      <td>11850.31</td>\n",
              "      <td>10.09%</td>\n",
              "    </tr>\n",
              "    <tr>\n",
              "      <th>1801</th>\n",
              "      <td>2018-01-03</td>\n",
              "      <td>11391.39</td>\n",
              "      <td>-4.03%</td>\n",
              "    </tr>\n",
              "    <tr>\n",
              "      <th>1802</th>\n",
              "      <td>2018-01-04</td>\n",
              "      <td>12319.79</td>\n",
              "      <td>7.54%</td>\n",
              "    </tr>\n",
              "    <tr>\n",
              "      <th>1803</th>\n",
              "      <td>2018-01-05</td>\n",
              "      <td>12786.04</td>\n",
              "      <td>3.65%</td>\n",
              "    </tr>\n",
              "    <tr>\n",
              "      <th>1804</th>\n",
              "      <td>2018-01-06</td>\n",
              "      <td>12725.41</td>\n",
              "      <td>-0.48%</td>\n",
              "    </tr>\n",
              "    <tr>\n",
              "      <th>1805</th>\n",
              "      <td>2018-01-07</td>\n",
              "      <td>14183.30</td>\n",
              "      <td>10.28%</td>\n",
              "    </tr>\n",
              "    <tr>\n",
              "      <th>1806</th>\n",
              "      <td>2018-01-08</td>\n",
              "      <td>14338.58</td>\n",
              "      <td>1.08%</td>\n",
              "    </tr>\n",
              "    <tr>\n",
              "      <th>1807</th>\n",
              "      <td>2018-01-09</td>\n",
              "      <td>13490.26</td>\n",
              "      <td>-6.29%</td>\n",
              "    </tr>\n",
              "    <tr>\n",
              "      <th>1808</th>\n",
              "      <td>2018-01-10</td>\n",
              "      <td>12618.13</td>\n",
              "      <td>-6.91%</td>\n",
              "    </tr>\n",
              "    <tr>\n",
              "      <th>1809</th>\n",
              "      <td>2018-01-11</td>\n",
              "      <td>12125.31</td>\n",
              "      <td>-4.06%</td>\n",
              "    </tr>\n",
              "    <tr>\n",
              "      <th>1810</th>\n",
              "      <td>2018-01-12</td>\n",
              "      <td>12427.96</td>\n",
              "      <td>2.44%</td>\n",
              "    </tr>\n",
              "    <tr>\n",
              "      <th>1811</th>\n",
              "      <td>2018-01-13</td>\n",
              "      <td>11144.19</td>\n",
              "      <td>-11.52%</td>\n",
              "    </tr>\n",
              "    <tr>\n",
              "      <th>1812</th>\n",
              "      <td>2018-01-14</td>\n",
              "      <td>11497.98</td>\n",
              "      <td>3.08%</td>\n",
              "    </tr>\n",
              "    <tr>\n",
              "      <th>1813</th>\n",
              "      <td>2018-01-15</td>\n",
              "      <td>11797.41</td>\n",
              "      <td>2.54%</td>\n",
              "    </tr>\n",
              "    <tr>\n",
              "      <th>1814</th>\n",
              "      <td>2018-01-16</td>\n",
              "      <td>11300.22</td>\n",
              "      <td>-4.4%</td>\n",
              "    </tr>\n",
              "    <tr>\n",
              "      <th>1815</th>\n",
              "      <td>2018-01-17</td>\n",
              "      <td>11192.51</td>\n",
              "      <td>-0.96%</td>\n",
              "    </tr>\n",
              "    <tr>\n",
              "      <th>1820</th>\n",
              "      <td>2018-01-22</td>\n",
              "      <td>10538.09</td>\n",
              "      <td>9.32%</td>\n",
              "    </tr>\n",
              "  </tbody>\n",
              "</table>\n",
              "</div>"
            ],
            "text/plain": [
              "            Date      Prix Variation 24h\n",
              "1775  2017-12-08  11795.53        15.71%\n",
              "1776  2017-12-09  15046.27         21.6%\n",
              "1777  2017-12-10  13503.35       -11.43%\n",
              "1778  2017-12-11  12697.71        -6.34%\n",
              "1779  2017-12-12  12669.29        -0.22%\n",
              "1780  2017-12-13  13863.96         8.62%\n",
              "1781  2017-12-14  14196.48         2.34%\n",
              "1782  2017-12-15  13651.18        -3.99%\n",
              "1783  2017-12-16  13832.48         1.31%\n",
              "1784  2017-12-17  14879.76         7.04%\n",
              "1785  2017-12-18  16376.30         9.14%\n",
              "1786  2017-12-19  15992.81         -2.4%\n",
              "1787  2017-12-20  15992.44            0%\n",
              "1788  2017-12-21  14992.29        -6.67%\n",
              "1789  2017-12-22  13961.36        -7.38%\n",
              "1790  2017-12-23  13009.24        -7.32%\n",
              "1791  2017-12-24  11867.06        -9.62%\n",
              "1792  2017-12-25  12503.76         5.09%\n",
              "1793  2017-12-26  11887.31        -5.19%\n",
              "1794  2017-12-27  11733.82        -1.31%\n",
              "1795  2017-12-28  13259.28         11.5%\n",
              "1796  2017-12-29  13087.45        -1.31%\n",
              "1797  2017-12-30  12264.02        -6.71%\n",
              "1798  2017-12-31  12247.68        -0.13%\n",
              "1799  2018-01-01  10654.40       -14.95%\n",
              "1800  2018-01-02  11850.31        10.09%\n",
              "1801  2018-01-03  11391.39        -4.03%\n",
              "1802  2018-01-04  12319.79         7.54%\n",
              "1803  2018-01-05  12786.04         3.65%\n",
              "1804  2018-01-06  12725.41        -0.48%\n",
              "1805  2018-01-07  14183.30        10.28%\n",
              "1806  2018-01-08  14338.58         1.08%\n",
              "1807  2018-01-09  13490.26        -6.29%\n",
              "1808  2018-01-10  12618.13        -6.91%\n",
              "1809  2018-01-11  12125.31        -4.06%\n",
              "1810  2018-01-12  12427.96         2.44%\n",
              "1811  2018-01-13  11144.19       -11.52%\n",
              "1812  2018-01-14  11497.98         3.08%\n",
              "1813  2018-01-15  11797.41         2.54%\n",
              "1814  2018-01-16  11300.22         -4.4%\n",
              "1815  2018-01-17  11192.51        -0.96%\n",
              "1820  2018-01-22  10538.09         9.32%"
            ]
          },
          "execution_count": 11,
          "metadata": {},
          "output_type": "execute_result"
        }
      ],
      "source": [
        "d1.loc[d1['Prix']>10000]    "
      ]
    },
    {
      "cell_type": "code",
      "execution_count": null,
      "metadata": {
        "id": "Tg_R1WbPQkAR"
      },
      "outputs": [],
      "source": [
        "%matplotlib inline\n",
        "import matplotlib.pyplot as plt"
      ]
    },
    {
      "cell_type": "code",
      "execution_count": null,
      "metadata": {
        "id": "LxfVZnYfQkAS",
        "outputId": "6c3ab534-5cb0-4abb-9a50-49f944a54cfb"
      },
      "outputs": [
        {
          "data": {
            "image/png": "[encoded data removed]",
            "text/plain": [
              "<Figure size 432x288 with 1 Axes>"
            ]
          },
          "metadata": {
            "needs_background": "light"
          },
          "output_type": "display_data"
        }
      ],
      "source": [
        "d1.plot()\n",
        "plt.show()"
      ]
    },
    {
      "cell_type": "code",
      "execution_count": null,
      "metadata": {
        "id": "S3FtYEHCQkAT"
      },
      "outputs": [],
      "source": [
        "date = pd.date_range('2013-01-28', '2018-04-01')"
      ]
    },
    {
      "cell_type": "code",
      "execution_count": null,
      "metadata": {
        "id": "9vdCfd0NQkAU"
      },
      "outputs": [],
      "source": [
        "index1 = pd.DatetimeIndex(date)"
      ]
    },
    {
      "cell_type": "code",
      "execution_count": null,
      "metadata": {
        "id": "ExJzc5JNQkAV"
      },
      "outputs": [],
      "source": [
        "del d1['Date']\n",
        "d1['Date'] = index1"
      ]
    },
    {
      "cell_type": "code",
      "execution_count": null,
      "metadata": {
        "id": "e83e0SC7QkAV"
      },
      "outputs": [],
      "source": [
        "d1= d1.set_index('Date')"
      ]
    },
    {
      "cell_type": "code",
      "execution_count": null,
      "metadata": {
        "id": "oxkNsIm1QkAW",
        "outputId": "ec445a78-5cf5-4abe-e9f9-b44cf5e86d78"
      },
      "outputs": [
        {
          "data": {
            "text/html": [
              "<div>\n",
              "<style scoped>\n",
              "    .dataframe tbody tr th:only-of-type {\n",
              "        vertical-align: middle;\n",
              "    }\n",
              "\n",
              "    .dataframe tbody tr th {\n",
              "        vertical-align: top;\n",
              "    }\n",
              "\n",
              "    .dataframe thead th {\n",
              "        text-align: right;\n",
              "    }\n",
              "</style>\n",
              "<table border=\"1\" class=\"dataframe\">\n",
              "  <thead>\n",
              "    <tr style=\"text-align: right;\">\n",
              "      <th></th>\n",
              "      <th>Prix</th>\n",
              "      <th>Variation 24h</th>\n",
              "    </tr>\n",
              "    <tr>\n",
              "      <th>Date</th>\n",
              "      <th></th>\n",
              "      <th></th>\n",
              "    </tr>\n",
              "  </thead>\n",
              "  <tbody>\n",
              "    <tr>\n",
              "      <th>2013-01-28</th>\n",
              "      <td>13.05</td>\n",
              "      <td>0%</td>\n",
              "    </tr>\n",
              "    <tr>\n",
              "      <th>2013-01-29</th>\n",
              "      <td>13.20</td>\n",
              "      <td>1.14%</td>\n",
              "    </tr>\n",
              "    <tr>\n",
              "      <th>2013-01-30</th>\n",
              "      <td>13.79</td>\n",
              "      <td>4.28%</td>\n",
              "    </tr>\n",
              "    <tr>\n",
              "      <th>2013-01-31</th>\n",
              "      <td>14.56</td>\n",
              "      <td>5.29%</td>\n",
              "    </tr>\n",
              "    <tr>\n",
              "      <th>2013-02-01</th>\n",
              "      <td>14.75</td>\n",
              "      <td>1.29%</td>\n",
              "    </tr>\n",
              "  </tbody>\n",
              "</table>\n",
              "</div>"
            ],
            "text/plain": [
              "             Prix Variation 24h\n",
              "Date                           \n",
              "2013-01-28  13.05            0%\n",
              "2013-01-29  13.20         1.14%\n",
              "2013-01-30  13.79         4.28%\n",
              "2013-01-31  14.56         5.29%\n",
              "2013-02-01  14.75         1.29%"
            ]
          },
          "execution_count": 19,
          "metadata": {},
          "output_type": "execute_result"
        }
      ],
      "source": [
        "d1.head()"
      ]
    },
    {
      "cell_type": "code",
      "execution_count": null,
      "metadata": {
        "id": "Ka3ZiSwkQkAW",
        "outputId": "24a11d81-db03-4237-b389-1723e5264226"
      },
      "outputs": [
        {
          "data": {
            "image/png": "[encoded data removed]",
            "text/plain": [
              "<Figure size 432x288 with 1 Axes>"
            ]
          },
          "metadata": {
            "needs_background": "light"
          },
          "output_type": "display_data"
        }
      ],
      "source": [
        "d1.plot()\n",
        "plt.show()"
      ]
    },
    {
      "cell_type": "code",
      "execution_count": null,
      "metadata": {
        "id": "iR3qMUapQkAX"
      },
      "outputs": [],
      "source": [
        ""
      ]
    }
  ],
  "metadata": {
    "kernelspec": {
      "display_name": "Python 3",
      "language": "python",
      "name": "python3"
    },
    "language_info": {
      "codemirror_mode": {
        "name": "ipython",
        "version": 3
      },
      "file_extension": ".py",
      "mimetype": "text/x-python",
      "name": "python",
      "nbconvert_exporter": "python",
      "pygments_lexer": "ipython3",
      "version": "3.7.0"
    },
    "colab": {
      "name": "EtudeDeCas_2_Pandas.ipynb",
      "provenance": [],
      "include_colab_link": true
    }
  },
  "nbformat": 4,
  "nbformat_minor": 0
}