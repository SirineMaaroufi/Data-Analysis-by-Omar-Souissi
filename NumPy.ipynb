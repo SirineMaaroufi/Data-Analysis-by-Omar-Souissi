{
  "nbformat": 4,
  "nbformat_minor": 0,
  "metadata": {
    "colab": {
      "name": "NumPy.ipynb",
      "provenance": [],
      "authorship_tag": "ABX9TyN40RIzB2Bt+VYq7lZUaNjX",
      "include_colab_link": true
    },
    "kernelspec": {
      "name": "python3",
      "display_name": "Python 3"
    },
    "language_info": {
      "name": "python"
    }
  },
  "cells": [
    {
      "cell_type": "markdown",
      "metadata": {
        "id": "view-in-github",
        "colab_type": "text"
      },
      "source": [
        "<a href=\"https://colab.research.google.com/github/SirineMaaroufi/Data-Analysis-by-Omar-Souissi/blob/main/NumPy.ipynb\" target=\"_parent\"><img src=\"https://colab.research.google.com/assets/colab-badge.svg\" alt=\"Open In Colab\"/></a>"
      ]
    },
    {
      "cell_type": "markdown",
      "source": [
        "## CHAP_2: NumPy"
      ],
      "metadata": {
        "id": "1MvZmxj4jRH0"
      }
    },
    {
      "cell_type": "code",
      "source": [
        "import numpy as np"
      ],
      "metadata": {
        "id": "Q_jbO5jejtDu"
      },
      "execution_count": 24,
      "outputs": []
    },
    {
      "cell_type": "markdown",
      "source": [
        "### Tableaux"
      ],
      "metadata": {
        "id": "1Tt4WCY2lkpm"
      }
    },
    {
      "cell_type": "code",
      "source": [
        "ar=np.array([1,2,3,4])"
      ],
      "metadata": {
        "id": "qAdbPbaSl1FW"
      },
      "execution_count": 25,
      "outputs": []
    },
    {
      "cell_type": "code",
      "source": [
        "ar.dtype"
      ],
      "metadata": {
        "colab": {
          "base_uri": "https://localhost:8080/"
        },
        "id": "vuC_w2A7B2iW",
        "outputId": "03a2060b-db79-417f-c366-655c8982f6f7"
      },
      "execution_count": 26,
      "outputs": [
        {
          "output_type": "execute_result",
          "data": {
            "text/plain": [
              "dtype('int64')"
            ]
          },
          "metadata": {},
          "execution_count": 26
        }
      ]
    },
    {
      "cell_type": "code",
      "source": [
        "print (\"dimension=\",ar.ndim,\"taille=\",ar.size,\"forme=\",ar.shape)"
      ],
      "metadata": {
        "colab": {
          "base_uri": "https://localhost:8080/"
        },
        "id": "gpq9bFHnB8pT",
        "outputId": "b5be690d-d725-4a41-d059-7f5dcd81cb95"
      },
      "execution_count": 27,
      "outputs": [
        {
          "output_type": "stream",
          "name": "stdout",
          "text": [
            "dimension= 1 taille= 4 forme= (4,)\n"
          ]
        }
      ]
    },
    {
      "cell_type": "code",
      "source": [
        "ar[1]"
      ],
      "metadata": {
        "colab": {
          "base_uri": "https://localhost:8080/"
        },
        "id": "JZp6YYsbCHdH",
        "outputId": "df971e0a-6634-4625-e832-960ddff82042"
      },
      "execution_count": 28,
      "outputs": [
        {
          "output_type": "execute_result",
          "data": {
            "text/plain": [
              "2"
            ]
          },
          "metadata": {},
          "execution_count": 28
        }
      ]
    },
    {
      "cell_type": "code",
      "source": [
        "print(\"ar[-1]=\" , ar[-1],\" et ar[-2]=\", ar[-2])"
      ],
      "metadata": {
        "colab": {
          "base_uri": "https://localhost:8080/"
        },
        "id": "C1HIrL0LCKVX",
        "outputId": "3ec10f98-407a-4629-920b-c1db50ca397c"
      },
      "execution_count": 29,
      "outputs": [
        {
          "output_type": "stream",
          "name": "stdout",
          "text": [
            "ar[-1]= 4  et ar[-2]= 3\n"
          ]
        }
      ]
    },
    {
      "cell_type": "code",
      "source": [
        "ar1 = np.array([[1, 2, 3],[4, 5, 6]])\n",
        "ar1"
      ],
      "metadata": {
        "colab": {
          "base_uri": "https://localhost:8080/"
        },
        "id": "wYZDSCGlCNMe",
        "outputId": "c0f99baf-5463-4544-a050-a46901c234e9"
      },
      "execution_count": 30,
      "outputs": [
        {
          "output_type": "execute_result",
          "data": {
            "text/plain": [
              "array([[1, 2, 3],\n",
              "       [4, 5, 6]])"
            ]
          },
          "metadata": {},
          "execution_count": 30
        }
      ]
    },
    {
      "cell_type": "code",
      "source": [
        "ar1[1,0]"
      ],
      "metadata": {
        "colab": {
          "base_uri": "https://localhost:8080/"
        },
        "id": "WDQx6JqLCX8J",
        "outputId": "986f5a77-57a9-4c51-9173-fe65fef78799"
      },
      "execution_count": 31,
      "outputs": [
        {
          "output_type": "execute_result",
          "data": {
            "text/plain": [
              "4"
            ]
          },
          "metadata": {},
          "execution_count": 31
        }
      ]
    },
    {
      "cell_type": "code",
      "source": [
        "ar1[0,0]=7\n",
        "ar1"
      ],
      "metadata": {
        "colab": {
          "base_uri": "https://localhost:8080/"
        },
        "id": "_hHNRVQNCadO",
        "outputId": "62a9a976-7fba-41a6-eb16-c6f8b18c3e27"
      },
      "execution_count": 32,
      "outputs": [
        {
          "output_type": "execute_result",
          "data": {
            "text/plain": [
              "array([[7, 2, 3],\n",
              "       [4, 5, 6]])"
            ]
          },
          "metadata": {},
          "execution_count": 32
        }
      ]
    },
    {
      "cell_type": "code",
      "source": [
        "ar1[1,2]=np.pi\n",
        "ar1"
      ],
      "metadata": {
        "id": "I-05UzZTCjtd",
        "colab": {
          "base_uri": "https://localhost:8080/"
        },
        "outputId": "1655c3ba-cb77-476d-bf9e-49d183c53a7f"
      },
      "execution_count": 33,
      "outputs": [
        {
          "output_type": "execute_result",
          "data": {
            "text/plain": [
              "array([[7, 2, 3],\n",
              "       [4, 5, 3]])"
            ]
          },
          "metadata": {},
          "execution_count": 33
        }
      ]
    },
    {
      "cell_type": "code",
      "source": [
        "ar2 = np.arange(0,20,3)\n",
        "ar2"
      ],
      "metadata": {
        "colab": {
          "base_uri": "https://localhost:8080/"
        },
        "id": "FD6DLqBkDHpN",
        "outputId": "544b5bef-480e-47a1-dcc7-734d6b540b96"
      },
      "execution_count": 34,
      "outputs": [
        {
          "output_type": "execute_result",
          "data": {
            "text/plain": [
              "array([ 0,  3,  6,  9, 12, 15, 18])"
            ]
          },
          "metadata": {},
          "execution_count": 34
        }
      ]
    },
    {
      "cell_type": "code",
      "source": [
        "ar3 = ar2[:5]\n",
        "ar3"
      ],
      "metadata": {
        "colab": {
          "base_uri": "https://localhost:8080/"
        },
        "id": "tU6IQJl5DQ-t",
        "outputId": "d5488877-8079-4cf1-cb3a-2dbe656f44cc"
      },
      "execution_count": 35,
      "outputs": [
        {
          "output_type": "execute_result",
          "data": {
            "text/plain": [
              "array([ 0,  3,  6,  9, 12])"
            ]
          },
          "metadata": {},
          "execution_count": 35
        }
      ]
    },
    {
      "cell_type": "code",
      "source": [
        "ar3[:4:2]"
      ],
      "metadata": {
        "colab": {
          "base_uri": "https://localhost:8080/"
        },
        "id": "HAWqqephDUpG",
        "outputId": "b87df7bc-87fc-4205-bb9c-a1ca97ddd658"
      },
      "execution_count": 36,
      "outputs": [
        {
          "output_type": "execute_result",
          "data": {
            "text/plain": [
              "array([0, 6])"
            ]
          },
          "metadata": {},
          "execution_count": 36
        }
      ]
    },
    {
      "cell_type": "code",
      "source": [
        "ar3[3::-1]"
      ],
      "metadata": {
        "colab": {
          "base_uri": "https://localhost:8080/"
        },
        "id": "9L7Pi8MBDaJR",
        "outputId": "6909ba12-7fed-46ec-cb27-b7c86964cef7"
      },
      "execution_count": 37,
      "outputs": [
        {
          "output_type": "execute_result",
          "data": {
            "text/plain": [
              "array([9, 6, 3, 0])"
            ]
          },
          "metadata": {},
          "execution_count": 37
        }
      ]
    },
    {
      "cell_type": "code",
      "source": [
        "ar1.shape"
      ],
      "metadata": {
        "colab": {
          "base_uri": "https://localhost:8080/"
        },
        "id": "lnegLVF9Die-",
        "outputId": "4817b69b-d310-418d-e2d0-e7d0b4967315"
      },
      "execution_count": 38,
      "outputs": [
        {
          "output_type": "execute_result",
          "data": {
            "text/plain": [
              "(2, 3)"
            ]
          },
          "metadata": {},
          "execution_count": 38
        }
      ]
    },
    {
      "cell_type": "code",
      "source": [
        "ar4 = ar1.reshape(3, 2)\n",
        "ar4"
      ],
      "metadata": {
        "colab": {
          "base_uri": "https://localhost:8080/"
        },
        "id": "hbdOCBV2DqYv",
        "outputId": "8c2bd322-543e-49c8-b814-88bbb85f0efa"
      },
      "execution_count": 39,
      "outputs": [
        {
          "output_type": "execute_result",
          "data": {
            "text/plain": [
              "array([[7, 2],\n",
              "       [3, 4],\n",
              "       [5, 3]])"
            ]
          },
          "metadata": {},
          "execution_count": 39
        }
      ]
    },
    {
      "cell_type": "markdown",
      "source": [
        "### Concaténer ou diviser les tableaux"
      ],
      "metadata": {
        "id": "9-WLdOe0FYyN"
      }
    },
    {
      "cell_type": "code",
      "source": [
        "ar=np.array([1,2,3,4])"
      ],
      "metadata": {
        "id": "JaeBn4S3Dsvp"
      },
      "execution_count": 40,
      "outputs": []
    },
    {
      "cell_type": "code",
      "source": [
        "ar1 = np.concatenate([ar,ar])\n",
        "ar1"
      ],
      "metadata": {
        "colab": {
          "base_uri": "https://localhost:8080/"
        },
        "id": "KXN-jzShFm3E",
        "outputId": "58946e9d-62a5-4ef1-9243-9f68c5746e98"
      },
      "execution_count": 41,
      "outputs": [
        {
          "output_type": "execute_result",
          "data": {
            "text/plain": [
              "array([1, 2, 3, 4, 1, 2, 3, 4])"
            ]
          },
          "metadata": {},
          "execution_count": 41
        }
      ]
    },
    {
      "cell_type": "code",
      "source": [
        "ar2 = np.array([[1,2,3], [4,5,6]])\n",
        "ar2"
      ],
      "metadata": {
        "colab": {
          "base_uri": "https://localhost:8080/"
        },
        "id": "lXtNOEZIFp_s",
        "outputId": "97a28f23-1116-4831-e7e0-1c6b3c955730"
      },
      "execution_count": 42,
      "outputs": [
        {
          "output_type": "execute_result",
          "data": {
            "text/plain": [
              "array([[1, 2, 3],\n",
              "       [4, 5, 6]])"
            ]
          },
          "metadata": {},
          "execution_count": 42
        }
      ]
    },
    {
      "cell_type": "code",
      "source": [
        "ar3 = np.concatenate([ar2,ar2])\n",
        "ar3"
      ],
      "metadata": {
        "colab": {
          "base_uri": "https://localhost:8080/"
        },
        "id": "503QOxUNFwrU",
        "outputId": "d16f694c-6e9c-4f61-ae88-3a3e40d18ef9"
      },
      "execution_count": 43,
      "outputs": [
        {
          "output_type": "execute_result",
          "data": {
            "text/plain": [
              "array([[1, 2, 3],\n",
              "       [4, 5, 6],\n",
              "       [1, 2, 3],\n",
              "       [4, 5, 6]])"
            ]
          },
          "metadata": {},
          "execution_count": 43
        }
      ]
    },
    {
      "cell_type": "code",
      "source": [
        "ar4 = np.concatenate([ar2, ar2], axis=1)\n",
        "ar4"
      ],
      "metadata": {
        "colab": {
          "base_uri": "https://localhost:8080/"
        },
        "id": "cjsX_CEtFzPA",
        "outputId": "3b8c4ca5-323e-46a9-8199-cd7d7c8d645b"
      },
      "execution_count": 44,
      "outputs": [
        {
          "output_type": "execute_result",
          "data": {
            "text/plain": [
              "array([[1, 2, 3, 1, 2, 3],\n",
              "       [4, 5, 6, 4, 5, 6]])"
            ]
          },
          "metadata": {},
          "execution_count": 44
        }
      ]
    },
    {
      "cell_type": "code",
      "source": [
        "ar[1:]"
      ],
      "metadata": {
        "colab": {
          "base_uri": "https://localhost:8080/"
        },
        "id": "0AmIjR-mF8UE",
        "outputId": "7f50abe2-bc62-4939-c0b8-4d31170f8abd"
      },
      "execution_count": 45,
      "outputs": [
        {
          "output_type": "execute_result",
          "data": {
            "text/plain": [
              "array([2, 3, 4])"
            ]
          },
          "metadata": {},
          "execution_count": 45
        }
      ]
    },
    {
      "cell_type": "code",
      "source": [
        "#concaténation verticale\n",
        "np.vstack([ar[1:], ar2])"
      ],
      "metadata": {
        "colab": {
          "base_uri": "https://localhost:8080/"
        },
        "id": "OYAT4sW5F5-M",
        "outputId": "dae2e5d7-d317-41ce-a5e0-984a8360e75c"
      },
      "execution_count": 46,
      "outputs": [
        {
          "output_type": "execute_result",
          "data": {
            "text/plain": [
              "array([[2, 3, 4],\n",
              "       [1, 2, 3],\n",
              "       [4, 5, 6]])"
            ]
          },
          "metadata": {},
          "execution_count": 46
        }
      ]
    },
    {
      "cell_type": "code",
      "source": [
        "#concaténation horizontale\n",
        "ar5=np.hstack([ar4, np.array([[1], [2]])])\n",
        "ar5"
      ],
      "metadata": {
        "colab": {
          "base_uri": "https://localhost:8080/"
        },
        "id": "Nmo6qdpmHHN_",
        "outputId": "f1fd2d21-51a6-4db5-c9b0-fc9161309344"
      },
      "execution_count": 47,
      "outputs": [
        {
          "output_type": "execute_result",
          "data": {
            "text/plain": [
              "array([[1, 2, 3, 1, 2, 3, 1],\n",
              "       [4, 5, 6, 4, 5, 6, 2]])"
            ]
          },
          "metadata": {},
          "execution_count": 47
        }
      ]
    },
    {
      "cell_type": "code",
      "source": [
        "ar6 = np.arange(0,20,3)\n",
        "ar6"
      ],
      "metadata": {
        "colab": {
          "base_uri": "https://localhost:8080/"
        },
        "id": "kPamxeRwHKMy",
        "outputId": "2e0afb65-fdbc-4bbd-d9ba-e5abd6d07e8d"
      },
      "execution_count": 48,
      "outputs": [
        {
          "output_type": "execute_result",
          "data": {
            "text/plain": [
              "array([ 0,  3,  6,  9, 12, 15, 18])"
            ]
          },
          "metadata": {},
          "execution_count": 48
        }
      ]
    },
    {
      "cell_type": "code",
      "source": [
        "a1,a2,a3 = np.split(ar6, [2, 4])\n",
        "print(a1, a2, a3)"
      ],
      "metadata": {
        "colab": {
          "base_uri": "https://localhost:8080/"
        },
        "id": "WiC1IVnAH3O9",
        "outputId": "07070fa0-e0e9-435e-fc70-4edc601b8b9a"
      },
      "execution_count": 49,
      "outputs": [
        {
          "output_type": "stream",
          "name": "stdout",
          "text": [
            "[0 3] [6 9] [12 15 18]\n"
          ]
        }
      ]
    },
    {
      "cell_type": "code",
      "source": [
        "ar6_1, ar6_2 = np.vsplit(ar4, [1])\n",
        "print(\"ar6_1 =\" ,ar6_1)  \n",
        "print(\"ar6_2 =\" ,ar6_2) "
      ],
      "metadata": {
        "colab": {
          "base_uri": "https://localhost:8080/"
        },
        "id": "CTeQ5vHuIIuD",
        "outputId": "a1b310c1-9924-477b-cd77-84ac9428ed09"
      },
      "execution_count": 50,
      "outputs": [
        {
          "output_type": "stream",
          "name": "stdout",
          "text": [
            "ar6_1 = [[1 2 3 1 2 3]]\n",
            "ar6_2 = [[4 5 6 4 5 6]]\n"
          ]
        }
      ]
    },
    {
      "cell_type": "code",
      "source": [
        "ar6_3, ar6_4 = np.hsplit(ar4, [4])\n",
        "print(\"ar6_3 =\" ,ar6_3)  \n",
        "print(\"ar6_3 =\" ,ar6_4) "
      ],
      "metadata": {
        "colab": {
          "base_uri": "https://localhost:8080/"
        },
        "id": "PK5NwVVfILSl",
        "outputId": "bfa960d7-1cea-4531-80a3-e8b8e59c6a5a"
      },
      "execution_count": 51,
      "outputs": [
        {
          "output_type": "stream",
          "name": "stdout",
          "text": [
            "ar6_3 = [[1 2 3 1]\n",
            " [4 5 6 4]]\n",
            "ar6_3 = [[2 3]\n",
            " [5 6]]\n"
          ]
        }
      ]
    },
    {
      "cell_type": "code",
      "source": [
        "ar5.transpose()"
      ],
      "metadata": {
        "colab": {
          "base_uri": "https://localhost:8080/"
        },
        "id": "m2In1k8aIPJQ",
        "outputId": "e7b91fd2-655a-461b-8e73-08641df727b5"
      },
      "execution_count": 52,
      "outputs": [
        {
          "output_type": "execute_result",
          "data": {
            "text/plain": [
              "array([[1, 4],\n",
              "       [2, 5],\n",
              "       [3, 6],\n",
              "       [1, 4],\n",
              "       [2, 5],\n",
              "       [3, 6],\n",
              "       [1, 2]])"
            ]
          },
          "metadata": {},
          "execution_count": 52
        }
      ]
    },
    {
      "cell_type": "code",
      "source": [
        "np.save('exempleTab.numpy',ar6)\n",
        "ar7 = np.load('exempleTab.numpy.npy')\n",
        "ar7"
      ],
      "metadata": {
        "colab": {
          "base_uri": "https://localhost:8080/"
        },
        "id": "3E0JbsEnIS9T",
        "outputId": "9ebbfc53-a740-4890-a322-b0724e0f2d9d"
      },
      "execution_count": 53,
      "outputs": [
        {
          "output_type": "execute_result",
          "data": {
            "text/plain": [
              "array([ 0,  3,  6,  9, 12, 15, 18])"
            ]
          },
          "metadata": {},
          "execution_count": 53
        }
      ]
    },
    {
      "cell_type": "markdown",
      "source": [
        "### Calcul avec des tableaux NumPy"
      ],
      "metadata": {
        "id": "Wv4u4FGlKbqJ"
      }
    },
    {
      "cell_type": "code",
      "source": [
        "import numpy as np"
      ],
      "metadata": {
        "id": "e0Ep30_hKjRG"
      },
      "execution_count": 54,
      "outputs": []
    },
    {
      "cell_type": "code",
      "source": [
        "def calcul_inverse(valeur):\n",
        "    resultat = np.empty(len(valeur))\n",
        "    for i in range(len(valeur)):\n",
        "        resultat[i] = 1.0 / valeur[i]\n",
        "    return resultat"
      ],
      "metadata": {
        "id": "KyV6x9UjKpt0"
      },
      "execution_count": 55,
      "outputs": []
    },
    {
      "cell_type": "code",
      "source": [
        "valeur = np.arange(2, 12, 2)"
      ],
      "metadata": {
        "id": "I3kT9bXSKyYF"
      },
      "execution_count": 56,
      "outputs": []
    },
    {
      "cell_type": "code",
      "source": [
        "calcul_inverse(valeur)"
      ],
      "metadata": {
        "colab": {
          "base_uri": "https://localhost:8080/"
        },
        "id": "NFf9dWFuKzOO",
        "outputId": "e1d85e49-3cd6-4e35-dae2-44249bd3fbb3"
      },
      "execution_count": 57,
      "outputs": [
        {
          "output_type": "execute_result",
          "data": {
            "text/plain": [
              "array([0.5       , 0.25      , 0.16666667, 0.125     , 0.1       ])"
            ]
          },
          "metadata": {},
          "execution_count": 57
        }
      ]
    },
    {
      "cell_type": "code",
      "source": [
        "valeur1 = np.arange(2, 1000000, 2)\n",
        "%timeit calcul_inverse(valeur1)"
      ],
      "metadata": {
        "colab": {
          "base_uri": "https://localhost:8080/"
        },
        "id": "hM5g07k9K-A5",
        "outputId": "fc724dc9-7fcc-456c-f54b-2cbaeff29272"
      },
      "execution_count": 58,
      "outputs": [
        {
          "output_type": "stream",
          "name": "stdout",
          "text": [
            "1 loop, best of 5: 1.08 s per loop\n"
          ]
        }
      ]
    },
    {
      "cell_type": "code",
      "source": [
        "%timeit (1.0 / valeur1)"
      ],
      "metadata": {
        "colab": {
          "base_uri": "https://localhost:8080/"
        },
        "id": "YYreYXZCLIt1",
        "outputId": "baaf5e93-fdf6-4ee7-dce8-613017c95343"
      },
      "execution_count": 59,
      "outputs": [
        {
          "output_type": "stream",
          "name": "stdout",
          "text": [
            "1000 loops, best of 5: 1.08 ms per loop\n"
          ]
        }
      ]
    },
    {
      "cell_type": "code",
      "source": [
        "ar = np.arange(2, 12)\n",
        "print(\"ar =\", ar)\n",
        "print(\"ar + 1 =\", ar + 1,\"=\",np.add(ar, 1))\n",
        "print(\"ar - 1 =\", ar - 1,\"=\",np.subtract(ar, 1))\n",
        "print(\"-ar = \", -ar,\"=\",np.negative(ar))\n",
        "print(\"ar * 2 =\", ar * 2,\"=\",np.multiply(ar, 2))\n",
        "print(\"ar /2 = \", ar / 2,\"=\",np.divide(ar, 2))\n",
        "print(\"ar ** 2 = \", ar ** 2,\"=\",np.power(ar,2))\n",
        "print(\"ar % 2 = \", ar % 2,\"=\",np.mod(ar,2))"
      ],
      "metadata": {
        "colab": {
          "base_uri": "https://localhost:8080/"
        },
        "id": "2MfrSJWJLMAi",
        "outputId": "4fcd5859-f65e-4752-afce-c5992f4a79c2"
      },
      "execution_count": 60,
      "outputs": [
        {
          "output_type": "stream",
          "name": "stdout",
          "text": [
            "ar = [ 2  3  4  5  6  7  8  9 10 11]\n",
            "ar + 1 = [ 3  4  5  6  7  8  9 10 11 12] = [ 3  4  5  6  7  8  9 10 11 12]\n",
            "ar - 1 = [ 1  2  3  4  5  6  7  8  9 10] = [ 1  2  3  4  5  6  7  8  9 10]\n",
            "-ar =  [ -2  -3  -4  -5  -6  -7  -8  -9 -10 -11] = [ -2  -3  -4  -5  -6  -7  -8  -9 -10 -11]\n",
            "ar * 2 = [ 4  6  8 10 12 14 16 18 20 22] = [ 4  6  8 10 12 14 16 18 20 22]\n",
            "ar /2 =  [1.  1.5 2.  2.5 3.  3.5 4.  4.5 5.  5.5] = [1.  1.5 2.  2.5 3.  3.5 4.  4.5 5.  5.5]\n",
            "ar ** 2 =  [  4   9  16  25  36  49  64  81 100 121] = [  4   9  16  25  36  49  64  81 100 121]\n",
            "ar % 2 =  [0 1 0 1 0 1 0 1 0 1] = [0 1 0 1 0 1 0 1 0 1]\n"
          ]
        }
      ]
    },
    {
      "cell_type": "code",
      "source": [
        "x = np.linspace(0,10,100)\n"
      ],
      "metadata": {
        "id": "J28BnttOLR94"
      },
      "execution_count": 61,
      "outputs": []
    },
    {
      "cell_type": "code",
      "source": [
        "sinx = np.sin(x)\n",
        "cosx = np.cos(x)"
      ],
      "metadata": {
        "id": "zrzK52rVLU29"
      },
      "execution_count": 62,
      "outputs": []
    },
    {
      "cell_type": "code",
      "source": [
        "%matplotlib inline\n",
        "import matplotlib.pyplot as plt \n",
        "plt.plot(x,sinx) \n",
        "plt.plot(x,cosx,'x') "
      ],
      "metadata": {
        "colab": {
          "base_uri": "https://localhost:8080/",
          "height": 282
        },
        "id": "OEUNooHgLchS",
        "outputId": "e00122f0-4e2f-4c54-a263-814fa75db21c"
      },
      "execution_count": 63,
      "outputs": [
        {
          "output_type": "execute_result",
          "data": {
            "text/plain": [
              "[<matplotlib.lines.Line2D at 0x7fac97986d10>]"
            ]
          },
          "metadata": {},
          "execution_count": 63
        },
        {
          "output_type": "display_data",
          "data": {
            "text/plain": [
              "<Figure size 432x288 with 1 Axes>"
            ],
            "image/png": "[encoded data removed]"
          },
          "metadata": {
            "needs_background": "light"
          }
        }
      ]
    },
    {
      "cell_type": "code",
      "source": [
        "#Reduces array’s dimension by one, by applying ufunc along one axis.\n",
        "np.add.reduce(ar)"
      ],
      "metadata": {
        "colab": {
          "base_uri": "https://localhost:8080/"
        },
        "id": "M-YYoAlKLfM1",
        "outputId": "84efc703-cbbd-4ebb-e766-d32175fd5f02"
      },
      "execution_count": 64,
      "outputs": [
        {
          "output_type": "execute_result",
          "data": {
            "text/plain": [
              "65"
            ]
          },
          "metadata": {},
          "execution_count": 64
        }
      ]
    },
    {
      "cell_type": "code",
      "source": [
        "np.multiply.reduce(ar)"
      ],
      "metadata": {
        "colab": {
          "base_uri": "https://localhost:8080/"
        },
        "id": "rHuIgQJ4Ll2A",
        "outputId": "a504c91b-65b4-4523-8769-cee75de06d32"
      },
      "execution_count": 65,
      "outputs": [
        {
          "output_type": "execute_result",
          "data": {
            "text/plain": [
              "39916800"
            ]
          },
          "metadata": {},
          "execution_count": 65
        }
      ]
    },
    {
      "cell_type": "code",
      "source": [
        "#addition entre chaque pair des éléments de 2 tableaux\n",
        "np.add.outer(ar, ar)"
      ],
      "metadata": {
        "colab": {
          "base_uri": "https://localhost:8080/"
        },
        "id": "Oq1FPxFqLt_y",
        "outputId": "aafd1d6d-4f13-4054-ed5d-b0e0d9d2f86e"
      },
      "execution_count": 66,
      "outputs": [
        {
          "output_type": "execute_result",
          "data": {
            "text/plain": [
              "array([[ 4,  5,  6,  7,  8,  9, 10, 11, 12, 13],\n",
              "       [ 5,  6,  7,  8,  9, 10, 11, 12, 13, 14],\n",
              "       [ 6,  7,  8,  9, 10, 11, 12, 13, 14, 15],\n",
              "       [ 7,  8,  9, 10, 11, 12, 13, 14, 15, 16],\n",
              "       [ 8,  9, 10, 11, 12, 13, 14, 15, 16, 17],\n",
              "       [ 9, 10, 11, 12, 13, 14, 15, 16, 17, 18],\n",
              "       [10, 11, 12, 13, 14, 15, 16, 17, 18, 19],\n",
              "       [11, 12, 13, 14, 15, 16, 17, 18, 19, 20],\n",
              "       [12, 13, 14, 15, 16, 17, 18, 19, 20, 21],\n",
              "       [13, 14, 15, 16, 17, 18, 19, 20, 21, 22]])"
            ]
          },
          "metadata": {},
          "execution_count": 66
        }
      ]
    },
    {
      "cell_type": "markdown",
      "source": [
        "### Indexation Fancy"
      ],
      "metadata": {
        "id": "7uGz470FMFdX"
      }
    },
    {
      "cell_type": "code",
      "source": [
        "rand = np.random.RandomState(20)\n",
        "x = rand.randint(10, size=20)\n",
        "x"
      ],
      "metadata": {
        "colab": {
          "base_uri": "https://localhost:8080/"
        },
        "id": "AEJWsEA7MKf9",
        "outputId": "40e7447d-d9fd-47c2-f9b7-5efa8b56905d"
      },
      "execution_count": 67,
      "outputs": [
        {
          "output_type": "execute_result",
          "data": {
            "text/plain": [
              "array([3, 9, 4, 6, 7, 2, 0, 6, 8, 5, 3, 0, 6, 6, 0, 9, 5, 7, 5, 2])"
            ]
          },
          "metadata": {},
          "execution_count": 67
        }
      ]
    },
    {
      "cell_type": "code",
      "source": [
        "[x[0], x[12]]"
      ],
      "metadata": {
        "colab": {
          "base_uri": "https://localhost:8080/"
        },
        "id": "g67ctD4YNaUF",
        "outputId": "1026dce2-954c-4945-89ab-19a6f6185606"
      },
      "execution_count": 68,
      "outputs": [
        {
          "output_type": "execute_result",
          "data": {
            "text/plain": [
              "[3, 6]"
            ]
          },
          "metadata": {},
          "execution_count": 68
        }
      ]
    },
    {
      "cell_type": "code",
      "source": [
        "ind = [0, 12]\n",
        "x[ind]"
      ],
      "metadata": {
        "colab": {
          "base_uri": "https://localhost:8080/"
        },
        "id": "J72NghpRNfM9",
        "outputId": "8409f583-69fb-42b3-bcd0-d13847da85b2"
      },
      "execution_count": 69,
      "outputs": [
        {
          "output_type": "execute_result",
          "data": {
            "text/plain": [
              "array([3, 6])"
            ]
          },
          "metadata": {},
          "execution_count": 69
        }
      ]
    },
    {
      "cell_type": "code",
      "source": [
        "#avec l'indexation fancy, la forme de résultat reflète la forme de tableaux d'index\n",
        "ind1 = np.array([[0, 12],\n",
        "                [3, 4]])\n",
        "x[ind1]"
      ],
      "metadata": {
        "colab": {
          "base_uri": "https://localhost:8080/"
        },
        "id": "7UIah_dgNr_f",
        "outputId": "d075f9ea-35b9-4a59-9c11-fcd1a8a4be4a"
      },
      "execution_count": 70,
      "outputs": [
        {
          "output_type": "execute_result",
          "data": {
            "text/plain": [
              "array([[3, 6],\n",
              "       [6, 7]])"
            ]
          },
          "metadata": {},
          "execution_count": 70
        }
      ]
    },
    {
      "cell_type": "code",
      "source": [
        "y = np.arange(9).reshape((3, 3))\n",
        "y"
      ],
      "metadata": {
        "colab": {
          "base_uri": "https://localhost:8080/"
        },
        "id": "ShTdXM7_Nyk0",
        "outputId": "9a4a1884-a6b9-4f42-f168-eee3415901b3"
      },
      "execution_count": 71,
      "outputs": [
        {
          "output_type": "execute_result",
          "data": {
            "text/plain": [
              "array([[0, 1, 2],\n",
              "       [3, 4, 5],\n",
              "       [6, 7, 8]])"
            ]
          },
          "metadata": {},
          "execution_count": 71
        }
      ]
    },
    {
      "cell_type": "code",
      "source": [
        "y[1, [1, 0, 2]]"
      ],
      "metadata": {
        "colab": {
          "base_uri": "https://localhost:8080/"
        },
        "id": "dLdyEze1N0-d",
        "outputId": "0b5f9a81-9b46-4275-a0f5-43dc2060b965"
      },
      "execution_count": 72,
      "outputs": [
        {
          "output_type": "execute_result",
          "data": {
            "text/plain": [
              "array([4, 3, 5])"
            ]
          },
          "metadata": {},
          "execution_count": 72
        }
      ]
    },
    {
      "cell_type": "code",
      "source": [
        "y[1:, [1, 0, 2]]"
      ],
      "metadata": {
        "colab": {
          "base_uri": "https://localhost:8080/"
        },
        "id": "PsKamVSOOQ8e",
        "outputId": "1faecd4d-7189-4c7e-fa1f-8fb9e60cf9a3"
      },
      "execution_count": 73,
      "outputs": [
        {
          "output_type": "execute_result",
          "data": {
            "text/plain": [
              "array([[4, 3, 5],\n",
              "       [7, 6, 8]])"
            ]
          },
          "metadata": {},
          "execution_count": 73
        }
      ]
    },
    {
      "cell_type": "markdown",
      "source": [
        "### Aborder les agrégations"
      ],
      "metadata": {
        "id": "HfufI8JQOrW3"
      }
    },
    {
      "cell_type": "code",
      "source": [
        "tab = np.random.random(2000000)\n"
      ],
      "metadata": {
        "id": "UhiXKEEIOwey"
      },
      "execution_count": 74,
      "outputs": []
    },
    {
      "cell_type": "code",
      "source": [
        "%timeit sum(tab)"
      ],
      "metadata": {
        "colab": {
          "base_uri": "https://localhost:8080/"
        },
        "id": "YxPmZXuQO43F",
        "outputId": "8fa24987-468d-4f4a-a1b8-db1aee7e5ac4"
      },
      "execution_count": 75,
      "outputs": [
        {
          "output_type": "stream",
          "name": "stdout",
          "text": [
            "10 loops, best of 5: 169 ms per loop\n"
          ]
        }
      ]
    },
    {
      "cell_type": "code",
      "source": [
        "%timeit np.sum(tab)"
      ],
      "metadata": {
        "colab": {
          "base_uri": "https://localhost:8080/"
        },
        "id": "OdOKe0D4O8_d",
        "outputId": "9f564179-77aa-418d-df1e-68c0297ec29e"
      },
      "execution_count": 76,
      "outputs": [
        {
          "output_type": "stream",
          "name": "stdout",
          "text": [
            "1000 loops, best of 5: 704 µs per loop\n"
          ]
        }
      ]
    },
    {
      "cell_type": "code",
      "source": [
        "x = np.arange(9)\n",
        "x"
      ],
      "metadata": {
        "colab": {
          "base_uri": "https://localhost:8080/"
        },
        "id": "11sr2dNqPALS",
        "outputId": "3d2f72fc-d87a-40f0-ad3e-371927f66e39"
      },
      "execution_count": 77,
      "outputs": [
        {
          "output_type": "execute_result",
          "data": {
            "text/plain": [
              "array([0, 1, 2, 3, 4, 5, 6, 7, 8])"
            ]
          },
          "metadata": {},
          "execution_count": 77
        }
      ]
    },
    {
      "cell_type": "code",
      "source": [
        "np.min(x), np.max(x)"
      ],
      "metadata": {
        "colab": {
          "base_uri": "https://localhost:8080/"
        },
        "id": "xDyAR-PfPDw5",
        "outputId": "7c40e0a6-7c69-4d7b-d199-8e40603e3b29"
      },
      "execution_count": 78,
      "outputs": [
        {
          "output_type": "execute_result",
          "data": {
            "text/plain": [
              "(0, 8)"
            ]
          },
          "metadata": {},
          "execution_count": 78
        }
      ]
    },
    {
      "cell_type": "code",
      "source": [
        "x.min(),x.max()"
      ],
      "metadata": {
        "colab": {
          "base_uri": "https://localhost:8080/"
        },
        "id": "8UoDKf08PKWB",
        "outputId": "40d386fe-a982-4a1d-a407-fe7fb785a9ed"
      },
      "execution_count": 79,
      "outputs": [
        {
          "output_type": "execute_result",
          "data": {
            "text/plain": [
              "(0, 8)"
            ]
          },
          "metadata": {},
          "execution_count": 79
        }
      ]
    },
    {
      "cell_type": "code",
      "source": [
        "y=x.reshape(3,3)\n",
        "y"
      ],
      "metadata": {
        "colab": {
          "base_uri": "https://localhost:8080/"
        },
        "id": "WyQ9g1nPPLWH",
        "outputId": "fbac5ec3-fe6e-46e8-ac83-bcddf0108770"
      },
      "execution_count": 80,
      "outputs": [
        {
          "output_type": "execute_result",
          "data": {
            "text/plain": [
              "array([[0, 1, 2],\n",
              "       [3, 4, 5],\n",
              "       [6, 7, 8]])"
            ]
          },
          "metadata": {},
          "execution_count": 80
        }
      ]
    },
    {
      "cell_type": "code",
      "source": [
        "y.sum()"
      ],
      "metadata": {
        "colab": {
          "base_uri": "https://localhost:8080/"
        },
        "id": "qE5OK7uWPPNU",
        "outputId": "bb26599c-0f27-4b14-be8f-5d49d7dcceed"
      },
      "execution_count": 81,
      "outputs": [
        {
          "output_type": "execute_result",
          "data": {
            "text/plain": [
              "36"
            ]
          },
          "metadata": {},
          "execution_count": 81
        }
      ]
    },
    {
      "cell_type": "code",
      "source": [
        "y.sum(axis=0)"
      ],
      "metadata": {
        "colab": {
          "base_uri": "https://localhost:8080/"
        },
        "id": "OsG43AZAPSC8",
        "outputId": "45285179-ec2d-4ae1-aa14-6a941bc223aa"
      },
      "execution_count": 82,
      "outputs": [
        {
          "output_type": "execute_result",
          "data": {
            "text/plain": [
              "array([ 9, 12, 15])"
            ]
          },
          "metadata": {},
          "execution_count": 82
        }
      ]
    },
    {
      "cell_type": "code",
      "source": [
        "y.min(axis=1)"
      ],
      "metadata": {
        "colab": {
          "base_uri": "https://localhost:8080/"
        },
        "id": "Jl8UK19SPVGd",
        "outputId": "6236129a-c100-4326-d4b8-7981b0897152"
      },
      "execution_count": 83,
      "outputs": [
        {
          "output_type": "execute_result",
          "data": {
            "text/plain": [
              "array([0, 3, 6])"
            ]
          },
          "metadata": {},
          "execution_count": 83
        }
      ]
    },
    {
      "cell_type": "code",
      "source": [
        "rand = np.random.RandomState(20)\n",
        "Taille= rand.randint(170,190, size=40)\n",
        "Taille"
      ],
      "metadata": {
        "colab": {
          "base_uri": "https://localhost:8080/"
        },
        "id": "75-AOHXHPYBO",
        "outputId": "78a0d360-54ef-4a00-bccb-c4bcbc892aa9"
      },
      "execution_count": 84,
      "outputs": [
        {
          "output_type": "execute_result",
          "data": {
            "text/plain": [
              "array([173, 185, 179, 181, 177, 172, 170, 178, 189, 186, 176, 176, 186,\n",
              "       179, 175, 177, 175, 172, 176, 183, 181, 173, 180, 181, 183, 189,\n",
              "       184, 170, 180, 181, 176, 181, 188, 173, 183, 187, 181, 186, 188,\n",
              "       185])"
            ]
          },
          "metadata": {},
          "execution_count": 84
        }
      ]
    },
    {
      "cell_type": "code",
      "source": [
        "np.mean(Taille), np.std(Taille)"
      ],
      "metadata": {
        "colab": {
          "base_uri": "https://localhost:8080/"
        },
        "id": "cCrHib3rPh0F",
        "outputId": "99b10a07-0cf9-4fd7-fee7-2f34be87e29e"
      },
      "execution_count": 85,
      "outputs": [
        {
          "output_type": "execute_result",
          "data": {
            "text/plain": [
              "(179.875, 5.3813915486609964)"
            ]
          },
          "metadata": {},
          "execution_count": 85
        }
      ]
    },
    {
      "cell_type": "code",
      "source": [
        "np.percentile(Taille, 25) , np.median(Taille), np.percentile(Taille, 75)"
      ],
      "metadata": {
        "colab": {
          "base_uri": "https://localhost:8080/"
        },
        "id": "PJC3Z0iCPp5X",
        "outputId": "435c8213-0bb8-4c9c-9049-fd96c8187628"
      },
      "execution_count": 86,
      "outputs": [
        {
          "output_type": "execute_result",
          "data": {
            "text/plain": [
              "(176.0, 180.5, 184.25)"
            ]
          },
          "metadata": {},
          "execution_count": 86
        }
      ]
    },
    {
      "cell_type": "code",
      "source": [
        "%matplotlib inline\n",
        "import matplotlib.pyplot as plt \n"
      ],
      "metadata": {
        "id": "dsWsjy9iPusB"
      },
      "execution_count": 87,
      "outputs": []
    },
    {
      "cell_type": "code",
      "source": [
        "plt.hist(Taille)\n",
        "plt.title('Distribution Taille')\n",
        "plt.xlabel('Taille (cm)')"
      ],
      "metadata": {
        "colab": {
          "base_uri": "https://localhost:8080/",
          "height": 312
        },
        "id": "8OJx86GWP4vG",
        "outputId": "86cf01b4-ac27-4dea-b14b-ba212ad7538b"
      },
      "execution_count": 88,
      "outputs": [
        {
          "output_type": "execute_result",
          "data": {
            "text/plain": [
              "Text(0.5, 0, 'Taille (cm)')"
            ]
          },
          "metadata": {},
          "execution_count": 88
        },
        {
          "output_type": "display_data",
          "data": {
            "text/plain": [
              "<Figure size 432x288 with 1 Axes>"
            ],
            "image/png": "[encoded data removed]"
          },
          "metadata": {
            "needs_background": "light"
          }
        }
      ]
    },
    {
      "cell_type": "markdown",
      "source": [
        "### Trier des valeurs"
      ],
      "metadata": {
        "id": "vJwGQS4ZRFRX"
      }
    },
    {
      "cell_type": "code",
      "execution_count": 89,
      "metadata": {
        "id": "vTiK7DpHRRCz"
      },
      "outputs": [],
      "source": [
        "a = np.array([7, 1, 5, 2, 3])"
      ]
    },
    {
      "cell_type": "code",
      "execution_count": 90,
      "metadata": {
        "id": "yzrb6sM2RRC0",
        "outputId": "7bd3f86e-2b1d-41df-b15f-09b6b5b21cf2",
        "colab": {
          "base_uri": "https://localhost:8080/"
        }
      },
      "outputs": [
        {
          "output_type": "execute_result",
          "data": {
            "text/plain": [
              "array([1, 2, 3, 5, 7])"
            ]
          },
          "metadata": {},
          "execution_count": 90
        }
      ],
      "source": [
        "np.sort(a)"
      ]
    },
    {
      "cell_type": "code",
      "execution_count": 91,
      "metadata": {
        "id": "EHBS95CSRRC2",
        "colab": {
          "base_uri": "https://localhost:8080/"
        },
        "outputId": "17b19427-c7ce-4e4c-fa5a-28655250d79e"
      },
      "outputs": [
        {
          "output_type": "execute_result",
          "data": {
            "text/plain": [
              "array([1, 2, 3, 5, 7])"
            ]
          },
          "metadata": {},
          "execution_count": 91
        }
      ],
      "source": [
        "a = np.array([7, 1, 5, 2, 3])\n",
        "a.sort()\n",
        "a"
      ]
    },
    {
      "cell_type": "code",
      "execution_count": 92,
      "metadata": {
        "id": "v-RGceGDRRC4",
        "outputId": "f961d1a1-955a-47f9-fd83-c39f070d9031",
        "colab": {
          "base_uri": "https://localhost:8080/"
        }
      },
      "outputs": [
        {
          "output_type": "execute_result",
          "data": {
            "text/plain": [
              "array([1, 3, 4, 2, 0])"
            ]
          },
          "metadata": {},
          "execution_count": 92
        }
      ],
      "source": [
        "a = np.array([7, 1, 5, 2, 3])\n",
        "ind = np.argsort(a)\n",
        "ind"
      ]
    },
    {
      "cell_type": "code",
      "execution_count": 93,
      "metadata": {
        "id": "bskC9l01RRC5",
        "outputId": "72092bcb-e486-4f84-be20-536237f35da5",
        "colab": {
          "base_uri": "https://localhost:8080/"
        }
      },
      "outputs": [
        {
          "output_type": "execute_result",
          "data": {
            "text/plain": [
              "array([1, 2, 3, 5, 7])"
            ]
          },
          "metadata": {},
          "execution_count": 93
        }
      ],
      "source": [
        "a[ind]"
      ]
    },
    {
      "cell_type": "code",
      "execution_count": 94,
      "metadata": {
        "id": "GKICIwttRRC7",
        "colab": {
          "base_uri": "https://localhost:8080/"
        },
        "outputId": "ce3836a7-1a51-4a27-814e-b32a4dba2679"
      },
      "outputs": [
        {
          "output_type": "execute_result",
          "data": {
            "text/plain": [
              "array([[3, 6, 1, 1],\n",
              "       [6, 8, 1, 2],\n",
              "       [4, 3, 3, 3]])"
            ]
          },
          "metadata": {},
          "execution_count": 94
        }
      ],
      "source": [
        "rand = np.random.RandomState()\n",
        "Mat = rand.randint(1, 9, (3, 4))\n",
        "Mat"
      ]
    },
    {
      "cell_type": "code",
      "execution_count": 95,
      "metadata": {
        "id": "oWod2cMVRRC9",
        "outputId": "681c8e00-d303-48c7-e22e-4368ff0832fb",
        "colab": {
          "base_uri": "https://localhost:8080/"
        }
      },
      "outputs": [
        {
          "output_type": "execute_result",
          "data": {
            "text/plain": [
              "array([[3, 3, 1, 1],\n",
              "       [4, 6, 1, 2],\n",
              "       [6, 8, 3, 3]])"
            ]
          },
          "metadata": {},
          "execution_count": 95
        }
      ],
      "source": [
        "np.sort(Mat, axis=0)"
      ]
    },
    {
      "cell_type": "code",
      "execution_count": 96,
      "metadata": {
        "id": "qIt5fA-5RRC_",
        "outputId": "a2610ca2-7651-419a-aaec-97c9212a79ba",
        "colab": {
          "base_uri": "https://localhost:8080/"
        }
      },
      "outputs": [
        {
          "output_type": "execute_result",
          "data": {
            "text/plain": [
              "array([[1, 1, 3, 6],\n",
              "       [1, 2, 6, 8],\n",
              "       [3, 3, 3, 4]])"
            ]
          },
          "metadata": {},
          "execution_count": 96
        }
      ],
      "source": [
        "np.sort(Mat, axis=1)"
      ]
    },
    {
      "cell_type": "code",
      "execution_count": 97,
      "metadata": {
        "id": "zX3QxpXcRRC-",
        "outputId": "267ae5c9-a13e-4155-b4fb-3f3489fbe3db",
        "colab": {
          "base_uri": "https://localhost:8080/"
        }
      },
      "outputs": [
        {
          "output_type": "execute_result",
          "data": {
            "text/plain": [
              "array([[1, 1, 3, 3],\n",
              "       [1, 2, 4, 6],\n",
              "       [3, 3, 6, 8]])"
            ]
          },
          "metadata": {},
          "execution_count": 97
        }
      ],
      "source": [
        "np.sort(np.sort(Mat, axis=0), axis=1)"
      ]
    },
    {
      "cell_type": "code",
      "execution_count": 98,
      "metadata": {
        "id": "y4B84RVDRRDA"
      },
      "outputs": [],
      "source": [
        "a = np.array([7, 1, 5, 2, 3])"
      ]
    },
    {
      "cell_type": "code",
      "execution_count": 99,
      "metadata": {
        "id": "zt0MYeZoRRDA",
        "outputId": "de9d3798-e734-4356-cba6-e7ab02269949",
        "colab": {
          "base_uri": "https://localhost:8080/"
        }
      },
      "outputs": [
        {
          "output_type": "execute_result",
          "data": {
            "text/plain": [
              "array([2, 3, 1, 5, 7])"
            ]
          },
          "metadata": {},
          "execution_count": 99
        }
      ],
      "source": [
        "np.partition(a, 3)"
      ]
    },
    {
      "cell_type": "code",
      "execution_count": 100,
      "metadata": {
        "id": "8lM4avbyRRDB",
        "outputId": "1527dc6f-d35c-470a-de43-707d2975bfe2",
        "colab": {
          "base_uri": "https://localhost:8080/"
        }
      },
      "outputs": [
        {
          "output_type": "execute_result",
          "data": {
            "text/plain": [
              "array([[3, 3, 1, 1],\n",
              "       [4, 6, 1, 2],\n",
              "       [6, 8, 3, 3]])"
            ]
          },
          "metadata": {},
          "execution_count": 100
        }
      ],
      "source": [
        "np.partition(Mat, 2, axis=0)"
      ]
    },
    {
      "cell_type": "code",
      "execution_count": 101,
      "metadata": {
        "id": "DXgYbOBCRRDB",
        "outputId": "07647b81-c1bd-490f-cb02-2e80b4ed737f",
        "colab": {
          "base_uri": "https://localhost:8080/"
        }
      },
      "outputs": [
        {
          "output_type": "execute_result",
          "data": {
            "text/plain": [
              "array([[ 9,  5],\n",
              "       [ 9, 10],\n",
              "       [ 5,  3],\n",
              "       [ 3,  6],\n",
              "       [19,  9],\n",
              "       [ 5, 18],\n",
              "       [ 7,  8],\n",
              "       [17,  3],\n",
              "       [14, 12],\n",
              "       [ 1, 19],\n",
              "       [17, 11],\n",
              "       [10, 19],\n",
              "       [14, 13],\n",
              "       [13,  4],\n",
              "       [ 3,  6]])"
            ]
          },
          "metadata": {},
          "execution_count": 101
        }
      ],
      "source": [
        "Mat1 = rand.randint(1, 20,30).reshape(15,2)\n",
        "Mat1"
      ]
    },
    {
      "cell_type": "code",
      "execution_count": 102,
      "metadata": {
        "id": "SWIctY6oRRDC",
        "outputId": "1ad50f45-0a12-4cd2-c5ff-2f79f723aa27",
        "colab": {
          "base_uri": "https://localhost:8080/",
          "height": 265
        }
      },
      "outputs": [
        {
          "output_type": "display_data",
          "data": {
            "text/plain": [
              "<Figure size 432x288 with 1 Axes>"
            ],
            "image/png": "[encoded data removed]"
          },
          "metadata": {
            "needs_background": "light"
          }
        }
      ],
      "source": [
        "%matplotlib inline\n",
        "import matplotlib.pyplot as plt\n",
        "plt.scatter(Mat1[:, 0], Mat1[:, 1]);"
      ]
    },
    {
      "cell_type": "code",
      "execution_count": 103,
      "metadata": {
        "id": "P1LgH4uARRDD"
      },
      "outputs": [],
      "source": [
        "Mat_dist = np.sum((Mat1[:,np.newaxis,:] - Mat1[np.newaxis,:,:]) ** 2, axis=-1)"
      ]
    },
    {
      "cell_type": "code",
      "execution_count": 104,
      "metadata": {
        "id": "03K7swTQRRDE"
      },
      "outputs": [],
      "source": [
        "nearest = np.argsort(Mat_dist, axis=1)"
      ]
    },
    {
      "cell_type": "code",
      "execution_count": 105,
      "metadata": {
        "id": "IfzeQPlrRRDE",
        "outputId": "92aab1f9-4037-4b28-d966-d4d70d9f941e",
        "colab": {
          "base_uri": "https://localhost:8080/"
        }
      },
      "outputs": [
        {
          "output_type": "execute_result",
          "data": {
            "text/plain": [
              "array([[ 0,  6, 13,  2,  1,  3, 14,  7,  8, 12, 10,  4,  5, 11,  9],\n",
              "       [ 1,  6,  0,  8, 12,  3, 13, 14,  2, 10,  5, 11,  4,  7,  9],\n",
              "       [ 2,  3, 14,  0,  6,  1, 13,  7,  8, 12, 10,  5,  4,  9, 11],\n",
              "       [ 3, 14,  2,  6,  0,  1, 13,  5,  8, 12,  9,  7, 11, 10,  4],\n",
              "       [ 4, 10,  8,  7, 12, 13,  1,  0,  6, 11,  2,  3, 14,  5,  9],\n",
              "       [ 5,  9, 11,  1,  6, 12,  8,  3, 14,  0, 10,  2, 13,  4,  7],\n",
              "       [ 6,  1,  0,  3, 14,  2, 13,  8, 12,  5, 10,  7, 11,  4,  9],\n",
              "       [ 7, 13,  4, 10,  0,  8, 12,  1,  6,  2,  3, 14, 11,  5,  9],\n",
              "       [ 8, 12, 10,  1,  4,  6, 11, 13,  0,  7,  5,  3, 14,  2,  9],\n",
              "       [ 9,  5, 11,  1,  6,  3, 14, 12,  8,  0,  2, 10, 13,  4,  7],\n",
              "       [10,  4,  8, 12,  7,  1, 13,  0,  6, 11,  5,  2,  3, 14,  9],\n",
              "       [11,  5, 12,  8,  9,  1, 10,  6,  4,  0,  3, 14, 13,  2,  7],\n",
              "       [12,  8, 10,  1,  4, 11,  6, 13,  0,  5,  7,  3, 14,  2,  9],\n",
              "       [13,  0,  7,  1,  6,  4,  2,  8, 10, 12,  3, 14, 11,  5,  9],\n",
              "       [ 3, 14,  2,  6,  0,  1, 13,  5,  8, 12,  9,  7, 11, 10,  4]])"
            ]
          },
          "metadata": {},
          "execution_count": 105
        }
      ],
      "source": [
        "nearest"
      ]
    },
    {
      "cell_type": "code",
      "execution_count": 106,
      "metadata": {
        "id": "noEPRzeTRRDF"
      },
      "outputs": [],
      "source": [
        "K = 3\n",
        "nearest_partition = np.argpartition(Mat_dist, K + 1, axis=1)"
      ]
    },
    {
      "cell_type": "code",
      "execution_count": 107,
      "metadata": {
        "id": "oOpzwDHIRRDF",
        "outputId": "bc23be4e-da4e-47aa-81e8-ff65f55d65a0",
        "colab": {
          "base_uri": "https://localhost:8080/"
        }
      },
      "outputs": [
        {
          "output_type": "execute_result",
          "data": {
            "text/plain": [
              "array([[13,  6,  0,  2,  1, 14,  5,  4,  8,  9, 10, 11, 12,  3,  7],\n",
              "       [ 1,  6,  8,  0, 12, 13, 14,  5,  4,  9, 10, 11,  3,  2,  7],\n",
              "       [ 3, 14,  2,  0,  6,  1, 13,  7,  8,  5, 10, 12,  4, 11,  9],\n",
              "       [ 6, 14,  2,  3,  0,  5,  4,  1,  8,  9, 10, 11, 12, 13,  7],\n",
              "       [ 4,  8, 10,  7, 12, 13,  1,  0,  6,  9,  5, 11,  3,  2, 14],\n",
              "       [ 5,  9, 11,  1,  6, 12,  8, 14,  3,  0, 10,  4,  2, 13,  7],\n",
              "       [ 6,  0,  1, 14,  3,  2, 13,  8,  7,  5, 10, 11, 12,  4,  9],\n",
              "       [ 4,  7, 13, 10,  0,  5,  6,  1,  8,  9,  3, 11, 12,  2, 14],\n",
              "       [12,  8, 10,  1,  4, 13,  6,  0, 11,  7,  9,  5,  3,  2, 14],\n",
              "       [ 5,  9, 11,  1,  6, 14,  3, 12,  8,  0, 10,  4,  2, 13,  7],\n",
              "       [ 4,  8, 10, 12,  7, 13,  1,  0,  6,  9,  5, 11,  3,  2, 14],\n",
              "       [11,  5, 12,  8,  9,  1, 10,  6,  0,  4, 14,  3,  2, 13,  7],\n",
              "       [ 1, 10,  8, 12,  4,  5,  6,  0, 13, 11,  7,  9,  3,  2, 14],\n",
              "       [13,  7,  0,  6,  1,  4, 10,  8,  2, 12,  3, 11,  9,  5, 14],\n",
              "       [ 6, 14,  2,  3,  0,  5,  4,  1,  8,  9, 10, 11, 12, 13,  7]])"
            ]
          },
          "metadata": {},
          "execution_count": 107
        }
      ],
      "source": [
        "nearest_partition"
      ]
    },
    {
      "cell_type": "markdown",
      "source": [
        "### Structurer ses donées"
      ],
      "metadata": {
        "id": "vfNDahLsRRDG"
      }
    },
    {
      "cell_type": "code",
      "execution_count": 108,
      "metadata": {
        "id": "zUDaq_ejTDrV"
      },
      "outputs": [],
      "source": [
        "nom = ['Mcgregor', 'Nurma', 'Hari']\n",
        "prenom = ['Alice', 'Abib', 'Badr']\n",
        "niveau = [3, 1, 2]\n",
        "moy = [12, 17, 15]"
      ]
    },
    {
      "cell_type": "code",
      "execution_count": 109,
      "metadata": {
        "id": "uKBgR7wZTDrW"
      },
      "outputs": [],
      "source": [
        "donnees = np.zeros(3, dtype={'names':('nom', 'prenom', 'niveau', 'moy'), 'formats':('U10', 'U10','i4', 'f8')})"
      ]
    },
    {
      "cell_type": "code",
      "execution_count": 110,
      "metadata": {
        "id": "Kwe4yl1FTDrX",
        "outputId": "8de4ebf9-bbbf-46a4-97f4-a6c1dc9425d5",
        "colab": {
          "base_uri": "https://localhost:8080/"
        }
      },
      "outputs": [
        {
          "output_type": "execute_result",
          "data": {
            "text/plain": [
              "array([('', '', 0, 0.), ('', '', 0, 0.), ('', '', 0, 0.)],\n",
              "      dtype=[('nom', '<U10'), ('prenom', '<U10'), ('niveau', '<i4'), ('moy', '<f8')])"
            ]
          },
          "metadata": {},
          "execution_count": 110
        }
      ],
      "source": [
        "donnees"
      ]
    },
    {
      "cell_type": "code",
      "execution_count": 111,
      "metadata": {
        "id": "20CRIhnQTDrZ"
      },
      "outputs": [],
      "source": [
        "donnees['nom'] = nom\n",
        "donnees['prenom'] = prenom\n",
        "donnees['niveau'] = niveau\n",
        "donnees['moy'] = moy"
      ]
    },
    {
      "cell_type": "code",
      "execution_count": 112,
      "metadata": {
        "id": "-zhJhGufTDra",
        "outputId": "f069dfe5-b290-4a25-8c18-ef237780fd79",
        "colab": {
          "base_uri": "https://localhost:8080/"
        }
      },
      "outputs": [
        {
          "output_type": "execute_result",
          "data": {
            "text/plain": [
              "array([('Mcgregor', 'Alice', 3, 12.), ('Nurma', 'Abib', 1, 17.),\n",
              "       ('Hari', 'Badr', 2, 15.)],\n",
              "      dtype=[('nom', '<U10'), ('prenom', '<U10'), ('niveau', '<i4'), ('moy', '<f8')])"
            ]
          },
          "metadata": {},
          "execution_count": 112
        }
      ],
      "source": [
        "donnees"
      ]
    },
    {
      "cell_type": "code",
      "execution_count": 113,
      "metadata": {
        "id": "z65CSyYhTDra",
        "outputId": "c28e39e9-15df-41e8-ecb4-43294b8bd084",
        "colab": {
          "base_uri": "https://localhost:8080/"
        }
      },
      "outputs": [
        {
          "output_type": "execute_result",
          "data": {
            "text/plain": [
              "array(['Mcgregor', 'Nurma', 'Hari'], dtype='<U10')"
            ]
          },
          "metadata": {},
          "execution_count": 113
        }
      ],
      "source": [
        "donnees['nom']"
      ]
    },
    {
      "cell_type": "code",
      "execution_count": 114,
      "metadata": {
        "id": "DWirzDh4TDrc",
        "outputId": "5ac23da6-2f97-475a-ac37-4a38752137db",
        "colab": {
          "base_uri": "https://localhost:8080/"
        }
      },
      "outputs": [
        {
          "output_type": "execute_result",
          "data": {
            "text/plain": [
              "('Nurma', 'Abib', 1, 17.)"
            ]
          },
          "metadata": {},
          "execution_count": 114
        }
      ],
      "source": [
        "donnees[1]"
      ]
    },
    {
      "cell_type": "code",
      "execution_count": 115,
      "metadata": {
        "id": "ydlZ1Go5TDrc",
        "outputId": "ccd06c6c-6b03-4bf2-d0c1-cfac9db440bd",
        "colab": {
          "base_uri": "https://localhost:8080/",
          "height": 35
        }
      },
      "outputs": [
        {
          "output_type": "execute_result",
          "data": {
            "text/plain": [
              "'Mcgregor'"
            ],
            "application/vnd.google.colaboratory.intrinsic+json": {
              "type": "string"
            }
          },
          "metadata": {},
          "execution_count": 115
        }
      ],
      "source": [
        "donnees[0]['nom']"
      ]
    },
    {
      "cell_type": "code",
      "source": [
        "donnees[donnees['niveau'] < 3]['nom']"
      ],
      "metadata": {
        "id": "bzWRC_fcTDrd",
        "colab": {
          "base_uri": "https://localhost:8080/"
        },
        "outputId": "d4aa2bda-0f17-46cb-8a1d-7d255f745dbf"
      },
      "execution_count": 116,
      "outputs": [
        {
          "output_type": "execute_result",
          "data": {
            "text/plain": [
              "array(['Nurma', 'Hari'], dtype='<U10')"
            ]
          },
          "metadata": {},
          "execution_count": 116
        }
      ]
    },
    {
      "cell_type": "markdown",
      "source": [
        "### ACP: Analyse en Composantes Principales"
      ],
      "metadata": {
        "id": "dp3zwOGhUjmv"
      }
    },
    {
      "cell_type": "markdown",
      "source": [
        " * L'Analyse en Composantes Principales permet d'explorer les jeux de données multidimensionnels constitués de variables quantitatives.\n",
        " * Elle explore les liaisons entre différentes variables ainsi que les ressemblances entre individus.\n",
        " * L'intérêt de la PCA est de résumer\n",
        "l'information qui est contenue dans une quantité de données en un certain nombre de variables synthétiques appelées composantes principales. \n",
        "* Pour comprendre le fonctionnement de la PCA, considérons n individus observés sur p variables quantitatives. L'approche PCA consiste alors à \n",
        "** projeter sur un espace de dimension inférieure à p tout en conservant un maximum d'informations. \n",
        "* Quelques applications classiques de la PCA : \n",
        "** Interpréter et visualiser les données. \n",
        "** Décorréler en considérant désormais les données uniquement sur les axes conservés. \n",
        "** Et puis débruiter les données en considérant que les axes émis sont bruités."
      ],
      "metadata": {
        "id": "khlxJNr5qN2I"
      }
    },
    {
      "cell_type": "markdown",
      "source": [
        "### Regression Linéaire"
      ],
      "metadata": {
        "id": "gF3_E54PrzS5"
      }
    },
    {
      "cell_type": "code",
      "source": [
        "%matplotlib inline\n",
        "import matplotlib.pyplot as plt\n",
        "import numpy as np\n",
        "from sklearn import datasets"
      ],
      "metadata": {
        "id": "vIgFIfitrTTH"
      },
      "execution_count": 117,
      "outputs": []
    },
    {
      "cell_type": "code",
      "source": [
        "x = np.random.rand(50)\n"
      ],
      "metadata": {
        "id": "qX1aCJ82rVlM"
      },
      "execution_count": 118,
      "outputs": []
    },
    {
      "cell_type": "code",
      "source": [
        "y = 7 * x - 3 + np.random.rand(50)"
      ],
      "metadata": {
        "id": "Hy8fMOXNraMZ"
      },
      "execution_count": 119,
      "outputs": []
    },
    {
      "cell_type": "code",
      "source": [
        "plt.scatter(x, y);"
      ],
      "metadata": {
        "colab": {
          "base_uri": "https://localhost:8080/",
          "height": 265
        },
        "id": "Ykzc80mSrdBq",
        "outputId": "cc2eb7e5-db7e-48f5-dab8-f85950e5a9bc"
      },
      "execution_count": 120,
      "outputs": [
        {
          "output_type": "display_data",
          "data": {
            "text/plain": [
              "<Figure size 432x288 with 1 Axes>"
            ],
            "image/png": "[encoded data removed]"
          },
          "metadata": {
            "needs_background": "light"
          }
        }
      ]
    },
    {
      "cell_type": "code",
      "execution_count": 121,
      "metadata": {
        "id": "0ZHKD56fqWwW",
        "outputId": "ae1f100f-9947-41f7-c363-8d078c9065b6",
        "colab": {
          "base_uri": "https://localhost:8080/",
          "height": 265
        }
      },
      "outputs": [
        {
          "output_type": "display_data",
          "data": {
            "text/plain": [
              "<Figure size 432x288 with 1 Axes>"
            ],
            "image/png": "[encoded data removed]"
          },
          "metadata": {
            "needs_background": "light"
          }
        }
      ],
      "source": [
        "from sklearn import linear_model\n",
        "linreg = linear_model.LinearRegression()\n",
        "linreg.fit(x[:, np.newaxis], y)\n",
        "xfit = np.linspace(0, 1, 10)\n",
        "yfit = linreg.predict(xfit[:, np.newaxis])\n",
        "plt.scatter(x, y)\n",
        "plt.plot(xfit, yfit);"
      ]
    },
    {
      "cell_type": "code",
      "execution_count": 122,
      "metadata": {
        "id": "Ra5yCo9mqWwZ",
        "outputId": "1e3be2d2-ef02-4bee-87c6-3ba13ffaf677",
        "colab": {
          "base_uri": "https://localhost:8080/"
        }
      },
      "outputs": [
        {
          "output_type": "stream",
          "name": "stdout",
          "text": [
            "Pente:  7.187412571182473\n",
            "Ordonné à l'origine -2.5492878354333235\n"
          ]
        }
      ],
      "source": [
        "print(\"Pente: \", linreg.coef_[0])\n",
        "print(\"Ordonné à l'origine\", linreg.intercept_)"
      ]
    },
    {
      "cell_type": "code",
      "execution_count": 123,
      "metadata": {
        "id": "4GY3dhZgr8Z2"
      },
      "outputs": [],
      "source": [
        "Diabètes = datasets.load_diabetes()"
      ]
    },
    {
      "cell_type": "code",
      "execution_count": 124,
      "metadata": {
        "id": "3e2jB6TXr8Z3",
        "outputId": "0dcca4fa-7039-40b7-9b35-60dbb942b10d",
        "colab": {
          "base_uri": "https://localhost:8080/"
        }
      },
      "outputs": [
        {
          "output_type": "execute_result",
          "data": {
            "text/plain": [
              "['age', 'sex', 'bmi', 'bp', 's1', 's2', 's3', 's4', 's5', 's6']"
            ]
          },
          "metadata": {},
          "execution_count": 124
        }
      ],
      "source": [
        "Diabètes.feature_names"
      ]
    },
    {
      "cell_type": "code",
      "execution_count": 125,
      "metadata": {
        "id": "nk4cZ-9qr8Z4",
        "outputId": "717fdd52-1693-497c-eaad-2e45ee55333d",
        "colab": {
          "base_uri": "https://localhost:8080/"
        }
      },
      "outputs": [
        {
          "output_type": "execute_result",
          "data": {
            "text/plain": [
              "array([ 0.03807591,  0.05068012,  0.06169621,  0.02187235, -0.0442235 ,\n",
              "       -0.03482076, -0.04340085, -0.00259226,  0.01990842, -0.01764613])"
            ]
          },
          "metadata": {},
          "execution_count": 125
        }
      ],
      "source": [
        "Diabètes.data[0]"
      ]
    },
    {
      "cell_type": "code",
      "execution_count": 126,
      "metadata": {
        "id": "aGSEURXWr8Z5",
        "outputId": "159663dd-e6c8-4bf6-a237-d0f84f6f7877",
        "colab": {
          "base_uri": "https://localhost:8080/"
        }
      },
      "outputs": [
        {
          "output_type": "execute_result",
          "data": {
            "text/plain": [
              "array([151.,  75., 141., 206., 135.,  97., 138.,  63., 110., 310., 101.,\n",
              "        69., 179., 185., 118., 171., 166., 144.,  97., 168.,  68.,  49.,\n",
              "        68., 245., 184., 202., 137.,  85., 131., 283., 129.,  59., 341.,\n",
              "        87.,  65., 102., 265., 276., 252.,  90., 100.,  55.,  61.,  92.,\n",
              "       259.,  53., 190., 142.,  75., 142., 155., 225.,  59., 104., 182.,\n",
              "       128.,  52.,  37., 170., 170.,  61., 144.,  52., 128.,  71., 163.,\n",
              "       150.,  97., 160., 178.,  48., 270., 202., 111.,  85.,  42., 170.,\n",
              "       200., 252., 113., 143.,  51.,  52., 210.,  65., 141.,  55., 134.,\n",
              "        42., 111.,  98., 164.,  48.,  96.,  90., 162., 150., 279.,  92.,\n",
              "        83., 128., 102., 302., 198.,  95.,  53., 134., 144., 232.,  81.,\n",
              "       104.,  59., 246., 297., 258., 229., 275., 281., 179., 200., 200.,\n",
              "       173., 180.,  84., 121., 161.,  99., 109., 115., 268., 274., 158.,\n",
              "       107.,  83., 103., 272.,  85., 280., 336., 281., 118., 317., 235.,\n",
              "        60., 174., 259., 178., 128.,  96., 126., 288.,  88., 292.,  71.,\n",
              "       197., 186.,  25.,  84.,  96., 195.,  53., 217., 172., 131., 214.,\n",
              "        59.,  70., 220., 268., 152.,  47.,  74., 295., 101., 151., 127.,\n",
              "       237., 225.,  81., 151., 107.,  64., 138., 185., 265., 101., 137.,\n",
              "       143., 141.,  79., 292., 178.,  91., 116.,  86., 122.,  72., 129.,\n",
              "       142.,  90., 158.,  39., 196., 222., 277.,  99., 196., 202., 155.,\n",
              "        77., 191.,  70.,  73.,  49.,  65., 263., 248., 296., 214., 185.,\n",
              "        78.,  93., 252., 150.,  77., 208.,  77., 108., 160.,  53., 220.,\n",
              "       154., 259.,  90., 246., 124.,  67.,  72., 257., 262., 275., 177.,\n",
              "        71.,  47., 187., 125.,  78.,  51., 258., 215., 303., 243.,  91.,\n",
              "       150., 310., 153., 346.,  63.,  89.,  50.,  39., 103., 308., 116.,\n",
              "       145.,  74.,  45., 115., 264.,  87., 202., 127., 182., 241.,  66.,\n",
              "        94., 283.,  64., 102., 200., 265.,  94., 230., 181., 156., 233.,\n",
              "        60., 219.,  80.,  68., 332., 248.,  84., 200.,  55.,  85.,  89.,\n",
              "        31., 129.,  83., 275.,  65., 198., 236., 253., 124.,  44., 172.,\n",
              "       114., 142., 109., 180., 144., 163., 147.,  97., 220., 190., 109.,\n",
              "       191., 122., 230., 242., 248., 249., 192., 131., 237.,  78., 135.,\n",
              "       244., 199., 270., 164.,  72.,  96., 306.,  91., 214.,  95., 216.,\n",
              "       263., 178., 113., 200., 139., 139.,  88., 148.,  88., 243.,  71.,\n",
              "        77., 109., 272.,  60.,  54., 221.,  90., 311., 281., 182., 321.,\n",
              "        58., 262., 206., 233., 242., 123., 167.,  63., 197.,  71., 168.,\n",
              "       140., 217., 121., 235., 245.,  40.,  52., 104., 132.,  88.,  69.,\n",
              "       219.,  72., 201., 110.,  51., 277.,  63., 118.,  69., 273., 258.,\n",
              "        43., 198., 242., 232., 175.,  93., 168., 275., 293., 281.,  72.,\n",
              "       140., 189., 181., 209., 136., 261., 113., 131., 174., 257.,  55.,\n",
              "        84.,  42., 146., 212., 233.,  91., 111., 152., 120.,  67., 310.,\n",
              "        94., 183.,  66., 173.,  72.,  49.,  64.,  48., 178., 104., 132.,\n",
              "       220.,  57.])"
            ]
          },
          "metadata": {},
          "execution_count": 126
        }
      ],
      "source": [
        "Diabètes.target"
      ]
    },
    {
      "cell_type": "code",
      "execution_count": 127,
      "metadata": {
        "id": "_KhC8sd_r8Z6"
      },
      "outputs": [],
      "source": [
        "x_appr = Diabètes.data[:-20]\n",
        "y_appr = Diabètes.target[:-20]\n",
        "x_test = Diabètes.data[-20:]\n",
        "y_test = Diabètes.target[-20:]"
      ]
    },
    {
      "cell_type": "code",
      "execution_count": 128,
      "metadata": {
        "id": "mtu2LwJIr8Z8",
        "outputId": "d621dfd7-c919-4981-e472-814bc4f2836b",
        "colab": {
          "base_uri": "https://localhost:8080/"
        }
      },
      "outputs": [
        {
          "output_type": "execute_result",
          "data": {
            "text/plain": [
              "LinearRegression()"
            ]
          },
          "metadata": {},
          "execution_count": 128
        }
      ],
      "source": [
        "linreg.fit(x_appr,y_appr)"
      ]
    },
    {
      "cell_type": "code",
      "execution_count": 129,
      "metadata": {
        "id": "VKrVGvNvr8Z8",
        "outputId": "8c7f8d12-8b68-46cc-b451-26dbfa5f8905",
        "colab": {
          "base_uri": "https://localhost:8080/"
        }
      },
      "outputs": [
        {
          "output_type": "execute_result",
          "data": {
            "text/plain": [
              "array([ 3.03499549e-01, -2.37639315e+02,  5.10530605e+02,  3.27736980e+02,\n",
              "       -8.14131709e+02,  4.92814588e+02,  1.02848452e+02,  1.84606489e+02,\n",
              "        7.43519617e+02,  7.60951722e+01])"
            ]
          },
          "metadata": {},
          "execution_count": 129
        }
      ],
      "source": [
        "linreg.coef_"
      ]
    },
    {
      "cell_type": "code",
      "execution_count": 130,
      "metadata": {
        "id": "ps7oHfRGr8Z9",
        "outputId": "bda9f654-66aa-4523-a555-40ce5b26420d",
        "colab": {
          "base_uri": "https://localhost:8080/"
        }
      },
      "outputs": [
        {
          "output_type": "execute_result",
          "data": {
            "text/plain": [
              "array([197.61846908, 155.43979328, 172.88665147, 111.53537279,\n",
              "       164.80054784, 131.06954875, 259.12237761, 100.47935157,\n",
              "       117.0601052 , 124.30503555, 218.36632793,  61.19831284,\n",
              "       132.25046751, 120.3332925 ,  52.54458691, 194.03798088,\n",
              "       102.57139702, 123.56604987, 211.0346317 ,  52.60335674])"
            ]
          },
          "metadata": {},
          "execution_count": 130
        }
      ],
      "source": [
        "linreg.predict(x_test)"
      ]
    },
    {
      "cell_type": "code",
      "execution_count": 131,
      "metadata": {
        "id": "5RYbWmRvr8Z-",
        "outputId": "f3ab99f2-2941-4455-ae4e-729d34b26621",
        "colab": {
          "base_uri": "https://localhost:8080/"
        }
      },
      "outputs": [
        {
          "output_type": "execute_result",
          "data": {
            "text/plain": [
              "array([233.,  91., 111., 152., 120.,  67., 310.,  94., 183.,  66., 173.,\n",
              "        72.,  49.,  64.,  48., 178., 104., 132., 220.,  57.])"
            ]
          },
          "metadata": {},
          "execution_count": 131
        }
      ],
      "source": [
        "y_test"
      ]
    },
    {
      "cell_type": "code",
      "execution_count": 132,
      "metadata": {
        "id": "05aW2PZgr8aB",
        "outputId": "3833d842-cbad-4239-dccd-bd42dadfa81d",
        "colab": {
          "base_uri": "https://localhost:8080/"
        }
      },
      "outputs": [
        {
          "output_type": "execute_result",
          "data": {
            "text/plain": [
              "0.5850753022690575"
            ]
          },
          "metadata": {},
          "execution_count": 132
        }
      ],
      "source": [
        "linreg.score(x_test, y_test)"
      ]
    },
    {
      "cell_type": "code",
      "execution_count": 133,
      "metadata": {
        "id": "sA5lCPUbr8aC",
        "outputId": "4fbfa021-c906-48bf-bb6e-a4d1497bd9c6",
        "colab": {
          "base_uri": "https://localhost:8080/",
          "height": 282
        }
      },
      "outputs": [
        {
          "output_type": "execute_result",
          "data": {
            "text/plain": [
              "[<matplotlib.lines.Line2D at 0x7fac9764d450>]"
            ]
          },
          "metadata": {},
          "execution_count": 133
        },
        {
          "output_type": "display_data",
          "data": {
            "text/plain": [
              "<Figure size 432x288 with 1 Axes>"
            ],
            "image/png": "[encoded data removed]"
          },
          "metadata": {
            "needs_background": "light"
          }
        }
      ],
      "source": [
        "x0_test = x_test[:,2]\n",
        "x0_appr = x_appr[:,2]\n",
        "x0_test = x0_test[:,np.newaxis]\n",
        "x0_appr = x0_appr[:,np.newaxis]\n",
        "linreg = linear_model.LinearRegression()\n",
        "linreg.fit(x0_appr,y_appr)\n",
        "y = linreg.predict(x0_test)\n",
        "plt.scatter(x0_test,y_test,color='b')\n",
        "plt.plot(x0_test,y,color='r',linewidth=4)"
      ]
    },
    {
      "cell_type": "code",
      "execution_count": 134,
      "metadata": {
        "id": "JULN3TF5r8aC",
        "outputId": "23be576f-39ee-457e-a95b-23afcc082ed4",
        "colab": {
          "base_uri": "https://localhost:8080/"
        }
      },
      "outputs": [
        {
          "output_type": "execute_result",
          "data": {
            "text/plain": [
              "0.47257544798227147"
            ]
          },
          "metadata": {},
          "execution_count": 134
        }
      ],
      "source": [
        "linreg.score(x0_test, y_test)"
      ]
    }
  ]
}